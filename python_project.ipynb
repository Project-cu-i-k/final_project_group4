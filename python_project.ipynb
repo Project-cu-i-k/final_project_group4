{
 "cells": [
  {
   "cell_type": "code",
   "execution_count": 21,
   "id": "7a6dc575",
   "metadata": {},
   "outputs": [],
   "source": [
    "import os, sys\n",
    "from IPython import display\n",
    "import numpy as np\n",
    "import matplotlib.pyplot as plt\n",
    "import pandas as pd\n",
    "import seaborn as sns\n",
    "import joblib\n",
    "from scipy import stats\n",
    "from sklearn.preprocessing import OneHotEncoder, LabelEncoder, OrdinalEncoder\n",
    "from sklearn.preprocessing import MinMaxScaler, StandardScaler\n",
    "from sklearn.model_selection import train_test_split\n",
    "import warnings\n",
    "\n",
    "path_to_file= r\"/workspaces/project-final/vietnam_housing_dataset.csv\"\n",
    "vietnam_housing = pd.read_csv(r\"/workspaces/project-final/vietnam_housing_dataset.csv\")\n",
    "vietnam_housing = vietnam_housing[['Address',\t'Area',\t'Frontage','Access Road',  'House direction',\t'Balcony direction', \t'Floors',\t'Bedrooms',\t'Bathrooms',\t'Legal status',\t'Furniture state',\t'Price']]"
   ]
  },
  {
   "cell_type": "markdown",
   "id": "c822c016",
   "metadata": {},
   "source": [
    "### Xử lí outliers"
   ]
  },
  {
   "cell_type": "code",
   "execution_count": 27,
   "id": "59d24032",
   "metadata": {},
   "outputs": [],
   "source": [
    "from scipy import stats\n",
    "vietnam_housing = vietnam_housing[(np.abs(stats.zscore(vietnam_housing[cols])) < 3).all(axis=1)]\n"
   ]
  },
  {
   "cell_type": "code",
   "execution_count": 30,
   "id": "9a02c65e",
   "metadata": {},
   "outputs": [
    {
     "name": "stdout",
     "output_type": "stream",
     "text": [
      "Old Shape:  (0, 12)\n",
      "New Shape: (0, 12)\n"
     ]
    }
   ],
   "source": [
    "import sklearn\n",
    "from sklearn.datasets import load_diabetes\n",
    "import pandas as pd\n",
    "print(\"Old Shape: \", vietnam_housing.shape)\n",
    "cols = ['Area', 'Frontage', 'Access Road', 'Bedrooms', 'Bathrooms','Price']\n",
    "for col in cols:\n",
    "    # Tính các giá trị phân vị\n",
    "    Q1 = vietnam_housing[col].quantile(0.25)\n",
    "    Q3 = vietnam_housing[col].quantile(0.75)\n",
    "    IQR = Q3 - Q1\n",
    "    lower = Q1 - 1.5 * IQR\n",
    "    upper = Q3 + 1.5 * IQR\n",
    "\n",
    "    # Tìm chỉ số các giá trị nằm ngoài giới hạn\n",
    "    upper_array = np.where(vietnam_housing[col] > upper)[0]\n",
    "    lower_array = np.where(vietnam_housing[col] < lower)[0]\n",
    " # Tạo mask xác định outliers\n",
    "    mask = (vietnam_housing[col] < lower) | (vietnam_housing[col] > upper)\n",
    "    n_outliers = mask.sum()\n",
    "    # Giữ lại những dòng hợp lệ\n",
    "    vietnam_housing = vietnam_housing.loc[~mask]\n",
    "print(\"New Shape:\", vietnam_housing.shape)"
   ]
  },
  {
   "cell_type": "code",
   "execution_count": 31,
   "id": "f5b8bae8",
   "metadata": {},
   "outputs": [
    {
     "name": "stdout",
     "output_type": "stream",
     "text": [
      "Area: 0 outliers\n",
      "Frontage: 0 outliers\n",
      "Access Road: 0 outliers\n",
      "Bedrooms: 0 outliers\n",
      "Bathrooms: 0 outliers\n",
      "Price: 0 outliers\n"
     ]
    }
   ],
   "source": [
    "for col in ['Area', 'Frontage', 'Access Road', 'Bedrooms', 'Bathrooms', 'Price']:\n",
    "    Q1 = vietnam_housing[col].quantile(0.25)\n",
    "    Q3 = vietnam_housing[col].quantile(0.75)\n",
    "    IQR = Q3 - Q1\n",
    "    lower = Q1 - 1.5 * IQR\n",
    "    upper = Q3 + 1.5 * IQR\n",
    "    \n",
    "    mask = (vietnam_housing[col] < lower) | (vietnam_housing[col] > upper)\n",
    "    print(f\"{col}: {mask.sum()} outliers\")\n"
   ]
  },
  {
   "cell_type": "markdown",
   "id": "ec7534e4",
   "metadata": {},
   "source": [
    "## Chia dữ liệu"
   ]
  },
  {
   "cell_type": "code",
   "execution_count": 32,
   "id": "209516a5",
   "metadata": {},
   "outputs": [
    {
     "ename": "ValueError",
     "evalue": "With n_samples=0, test_size=0.33 and train_size=None, the resulting train set will be empty. Adjust any of the aforementioned parameters.",
     "output_type": "error",
     "traceback": [
      "\u001b[31m---------------------------------------------------------------------------\u001b[39m",
      "\u001b[31mValueError\u001b[39m                                Traceback (most recent call last)",
      "\u001b[36mCell\u001b[39m\u001b[36m \u001b[39m\u001b[32mIn[32]\u001b[39m\u001b[32m, line 4\u001b[39m\n\u001b[32m      2\u001b[39m seed = \u001b[32m42\u001b[39m\n\u001b[32m      3\u001b[39m index_all = np.arange(vietnam_housing.shape[\u001b[32m0\u001b[39m])\n\u001b[32m----> \u001b[39m\u001b[32m4\u001b[39m index_train, index_test = \u001b[43mtrain_test_split\u001b[49m\u001b[43m(\u001b[49m\u001b[43mindex_all\u001b[49m\u001b[43m,\u001b[49m\u001b[43m \u001b[49m\u001b[43mtest_size\u001b[49m\u001b[43m=\u001b[49m\u001b[32;43m0.33\u001b[39;49m\u001b[43m,\u001b[49m\u001b[43m \u001b[49m\u001b[43mrandom_state\u001b[49m\u001b[43m=\u001b[49m\u001b[43mseed\u001b[49m\u001b[43m)\u001b[49m\n",
      "\u001b[36mFile \u001b[39m\u001b[32m~/.local/lib/python3.12/site-packages/sklearn/utils/_param_validation.py:218\u001b[39m, in \u001b[36mvalidate_params.<locals>.decorator.<locals>.wrapper\u001b[39m\u001b[34m(*args, **kwargs)\u001b[39m\n\u001b[32m    212\u001b[39m \u001b[38;5;28;01mtry\u001b[39;00m:\n\u001b[32m    213\u001b[39m     \u001b[38;5;28;01mwith\u001b[39;00m config_context(\n\u001b[32m    214\u001b[39m         skip_parameter_validation=(\n\u001b[32m    215\u001b[39m             prefer_skip_nested_validation \u001b[38;5;129;01mor\u001b[39;00m global_skip_validation\n\u001b[32m    216\u001b[39m         )\n\u001b[32m    217\u001b[39m     ):\n\u001b[32m--> \u001b[39m\u001b[32m218\u001b[39m         \u001b[38;5;28;01mreturn\u001b[39;00m \u001b[43mfunc\u001b[49m\u001b[43m(\u001b[49m\u001b[43m*\u001b[49m\u001b[43margs\u001b[49m\u001b[43m,\u001b[49m\u001b[43m \u001b[49m\u001b[43m*\u001b[49m\u001b[43m*\u001b[49m\u001b[43mkwargs\u001b[49m\u001b[43m)\u001b[49m\n\u001b[32m    219\u001b[39m \u001b[38;5;28;01mexcept\u001b[39;00m InvalidParameterError \u001b[38;5;28;01mas\u001b[39;00m e:\n\u001b[32m    220\u001b[39m     \u001b[38;5;66;03m# When the function is just a wrapper around an estimator, we allow\u001b[39;00m\n\u001b[32m    221\u001b[39m     \u001b[38;5;66;03m# the function to delegate validation to the estimator, but we replace\u001b[39;00m\n\u001b[32m    222\u001b[39m     \u001b[38;5;66;03m# the name of the estimator by the name of the function in the error\u001b[39;00m\n\u001b[32m    223\u001b[39m     \u001b[38;5;66;03m# message to avoid confusion.\u001b[39;00m\n\u001b[32m    224\u001b[39m     msg = re.sub(\n\u001b[32m    225\u001b[39m         \u001b[33mr\u001b[39m\u001b[33m\"\u001b[39m\u001b[33mparameter of \u001b[39m\u001b[33m\\\u001b[39m\u001b[33mw+ must be\u001b[39m\u001b[33m\"\u001b[39m,\n\u001b[32m    226\u001b[39m         \u001b[33mf\u001b[39m\u001b[33m\"\u001b[39m\u001b[33mparameter of \u001b[39m\u001b[38;5;132;01m{\u001b[39;00mfunc.\u001b[34m__qualname__\u001b[39m\u001b[38;5;132;01m}\u001b[39;00m\u001b[33m must be\u001b[39m\u001b[33m\"\u001b[39m,\n\u001b[32m    227\u001b[39m         \u001b[38;5;28mstr\u001b[39m(e),\n\u001b[32m    228\u001b[39m     )\n",
      "\u001b[36mFile \u001b[39m\u001b[32m~/.local/lib/python3.12/site-packages/sklearn/model_selection/_split.py:2919\u001b[39m, in \u001b[36mtrain_test_split\u001b[39m\u001b[34m(test_size, train_size, random_state, shuffle, stratify, *arrays)\u001b[39m\n\u001b[32m   2916\u001b[39m arrays = indexable(*arrays)\n\u001b[32m   2918\u001b[39m n_samples = _num_samples(arrays[\u001b[32m0\u001b[39m])\n\u001b[32m-> \u001b[39m\u001b[32m2919\u001b[39m n_train, n_test = \u001b[43m_validate_shuffle_split\u001b[49m\u001b[43m(\u001b[49m\n\u001b[32m   2920\u001b[39m \u001b[43m    \u001b[49m\u001b[43mn_samples\u001b[49m\u001b[43m,\u001b[49m\u001b[43m \u001b[49m\u001b[43mtest_size\u001b[49m\u001b[43m,\u001b[49m\u001b[43m \u001b[49m\u001b[43mtrain_size\u001b[49m\u001b[43m,\u001b[49m\u001b[43m \u001b[49m\u001b[43mdefault_test_size\u001b[49m\u001b[43m=\u001b[49m\u001b[32;43m0.25\u001b[39;49m\n\u001b[32m   2921\u001b[39m \u001b[43m\u001b[49m\u001b[43m)\u001b[49m\n\u001b[32m   2923\u001b[39m \u001b[38;5;28;01mif\u001b[39;00m shuffle \u001b[38;5;129;01mis\u001b[39;00m \u001b[38;5;28;01mFalse\u001b[39;00m:\n\u001b[32m   2924\u001b[39m     \u001b[38;5;28;01mif\u001b[39;00m stratify \u001b[38;5;129;01mis\u001b[39;00m \u001b[38;5;129;01mnot\u001b[39;00m \u001b[38;5;28;01mNone\u001b[39;00m:\n",
      "\u001b[36mFile \u001b[39m\u001b[32m~/.local/lib/python3.12/site-packages/sklearn/model_selection/_split.py:2499\u001b[39m, in \u001b[36m_validate_shuffle_split\u001b[39m\u001b[34m(n_samples, test_size, train_size, default_test_size)\u001b[39m\n\u001b[32m   2496\u001b[39m n_train, n_test = \u001b[38;5;28mint\u001b[39m(n_train), \u001b[38;5;28mint\u001b[39m(n_test)\n\u001b[32m   2498\u001b[39m \u001b[38;5;28;01mif\u001b[39;00m n_train == \u001b[32m0\u001b[39m:\n\u001b[32m-> \u001b[39m\u001b[32m2499\u001b[39m     \u001b[38;5;28;01mraise\u001b[39;00m \u001b[38;5;167;01mValueError\u001b[39;00m(\n\u001b[32m   2500\u001b[39m         \u001b[33m\"\u001b[39m\u001b[33mWith n_samples=\u001b[39m\u001b[38;5;132;01m{}\u001b[39;00m\u001b[33m, test_size=\u001b[39m\u001b[38;5;132;01m{}\u001b[39;00m\u001b[33m and train_size=\u001b[39m\u001b[38;5;132;01m{}\u001b[39;00m\u001b[33m, the \u001b[39m\u001b[33m\"\u001b[39m\n\u001b[32m   2501\u001b[39m         \u001b[33m\"\u001b[39m\u001b[33mresulting train set will be empty. Adjust any of the \u001b[39m\u001b[33m\"\u001b[39m\n\u001b[32m   2502\u001b[39m         \u001b[33m\"\u001b[39m\u001b[33maforementioned parameters.\u001b[39m\u001b[33m\"\u001b[39m.format(n_samples, test_size, train_size)\n\u001b[32m   2503\u001b[39m     )\n\u001b[32m   2505\u001b[39m \u001b[38;5;28;01mreturn\u001b[39;00m n_train, n_test\n",
      "\u001b[31mValueError\u001b[39m: With n_samples=0, test_size=0.33 and train_size=None, the resulting train set will be empty. Adjust any of the aforementioned parameters."
     ]
    }
   ],
   "source": [
    "from sklearn.model_selection import train_test_split\n",
    "seed = 42\n",
    "index_all = np.arange(vietnam_housing.shape[0])\n",
    "index_train, index_test = train_test_split(index_all, test_size=0.33, random_state=seed)"
   ]
  },
  {
   "cell_type": "code",
   "execution_count": null,
   "id": "063514c0",
   "metadata": {},
   "outputs": [
    {
     "name": "stdout",
     "output_type": "stream",
     "text": [
      "train: 10374 / test: 5111 - Tỷ lệ: 0.670, 0.330\n"
     ]
    }
   ],
   "source": [
    "vietnam_housing_train = vietnam_housing.iloc[index_train]\n",
    "vietnam_housing_test  = vietnam_housing.iloc[index_test]\n",
    "print(f\"train: {len(vietnam_housing_train)} / test: {len(vietnam_housing_test)} - Tỷ lệ: {len(vietnam_housing_train) / len(vietnam_housing):.3f}, {len(vietnam_housing_test) / len(vietnam_housing):.3f}\")"
   ]
  },
  {
   "cell_type": "code",
   "execution_count": null,
   "id": "3c5a328e",
   "metadata": {},
   "outputs": [],
   "source": [
    "# Lưu dữ liệu sau khi chia\n",
    "import os\n",
    "from pathlib import Path\n",
    "# define experiment directory (change if you prefer another path)\n",
    "exps_dir = Path(\"./exps\")\n",
    "(exps_dir / \"data\").mkdir(parents=True, exist_ok=True)\n",
    "vietnam_housing_train.to_excel(f'{exps_dir}/data/train.xlsx', index=None)\n",
    "vietnam_housing_test.to_excel(f'{exps_dir}/data/test.xlsx', index=None)\n",
    "np.savez(f'{exps_dir}/data/idx.npz', id_train = index_train, id_test = index_test)\n"
   ]
  },
  {
   "cell_type": "code",
   "execution_count": null,
   "id": "08d303a5",
   "metadata": {},
   "outputs": [
    {
     "data": {
      "text/html": [
       "<div>\n",
       "<style scoped>\n",
       "    .dataframe tbody tr th:only-of-type {\n",
       "        vertical-align: middle;\n",
       "    }\n",
       "\n",
       "    .dataframe tbody tr th {\n",
       "        vertical-align: top;\n",
       "    }\n",
       "\n",
       "    .dataframe thead th {\n",
       "        text-align: right;\n",
       "    }\n",
       "</style>\n",
       "<table border=\"1\" class=\"dataframe\">\n",
       "  <thead>\n",
       "    <tr style=\"text-align: right;\">\n",
       "      <th></th>\n",
       "      <th>Address</th>\n",
       "      <th>Area</th>\n",
       "      <th>Frontage</th>\n",
       "      <th>Access_Road</th>\n",
       "      <th>House_direction</th>\n",
       "      <th>Balcony_direction</th>\n",
       "      <th>Floors</th>\n",
       "      <th>Bedrooms</th>\n",
       "      <th>Bathrooms</th>\n",
       "      <th>Legal_status</th>\n",
       "      <th>Furniture_state</th>\n",
       "      <th>Price</th>\n",
       "      <th>House_direction_sin</th>\n",
       "      <th>House_direction_cos</th>\n",
       "      <th>Balcony_direction_sin</th>\n",
       "      <th>Balcony_direction_cos</th>\n",
       "    </tr>\n",
       "  </thead>\n",
       "  <tbody>\n",
       "    <tr>\n",
       "      <th>0</th>\n",
       "      <td>Đường Phan Văn Trị, Phường 7, Gò Vấp, Hồ Chí Minh</td>\n",
       "      <td>2.068707</td>\n",
       "      <td>0.248976</td>\n",
       "      <td>0.365152</td>\n",
       "      <td>Unknown</td>\n",
       "      <td>Unknown</td>\n",
       "      <td>3</td>\n",
       "      <td>-0.360955</td>\n",
       "      <td>-0.227658</td>\n",
       "      <td>0</td>\n",
       "      <td>2</td>\n",
       "      <td>1.090140</td>\n",
       "      <td>0.0</td>\n",
       "      <td>1.0</td>\n",
       "      <td>0.0</td>\n",
       "      <td>1.0</td>\n",
       "    </tr>\n",
       "    <tr>\n",
       "      <th>1</th>\n",
       "      <td>Hẻm 128, Đường Bành Văn Trân, Phường 7, Tân Bì...</td>\n",
       "      <td>-0.645782</td>\n",
       "      <td>-1.429519</td>\n",
       "      <td>0.365152</td>\n",
       "      <td>Unknown</td>\n",
       "      <td>Unknown</td>\n",
       "      <td>3</td>\n",
       "      <td>-0.360955</td>\n",
       "      <td>-0.227658</td>\n",
       "      <td>0</td>\n",
       "      <td>2</td>\n",
       "      <td>0.472554</td>\n",
       "      <td>0.0</td>\n",
       "      <td>1.0</td>\n",
       "      <td>0.0</td>\n",
       "      <td>1.0</td>\n",
       "    </tr>\n",
       "    <tr>\n",
       "      <th>2</th>\n",
       "      <td>Đường Nguyễn Khang, Phường Yên Hòa, Cầu Giấy, ...</td>\n",
       "      <td>-0.645782</td>\n",
       "      <td>-2.548516</td>\n",
       "      <td>0.365152</td>\n",
       "      <td>Unknown</td>\n",
       "      <td>Unknown</td>\n",
       "      <td>4</td>\n",
       "      <td>0.960102</td>\n",
       "      <td>0.980044</td>\n",
       "      <td>0</td>\n",
       "      <td>1</td>\n",
       "      <td>1.351427</td>\n",
       "      <td>0.0</td>\n",
       "      <td>1.0</td>\n",
       "      <td>0.0</td>\n",
       "      <td>1.0</td>\n",
       "    </tr>\n",
       "    <tr>\n",
       "      <th>3</th>\n",
       "      <td>Phường Bình Hưng Hòa, Bình Tân, Hồ Chí Minh</td>\n",
       "      <td>0.054731</td>\n",
       "      <td>-1.149770</td>\n",
       "      <td>0.365152</td>\n",
       "      <td>Unknown</td>\n",
       "      <td>Unknown</td>\n",
       "      <td>3</td>\n",
       "      <td>-0.360955</td>\n",
       "      <td>-0.227658</td>\n",
       "      <td>0</td>\n",
       "      <td>0</td>\n",
       "      <td>-0.620098</td>\n",
       "      <td>0.0</td>\n",
       "      <td>1.0</td>\n",
       "      <td>0.0</td>\n",
       "      <td>1.0</td>\n",
       "    </tr>\n",
       "    <tr>\n",
       "      <th>4</th>\n",
       "      <td>Phường 12, Tân Bình, Hồ Chí Minh</td>\n",
       "      <td>1.017937</td>\n",
       "      <td>1.647722</td>\n",
       "      <td>0.365152</td>\n",
       "      <td>Unknown</td>\n",
       "      <td>Unknown</td>\n",
       "      <td>4</td>\n",
       "      <td>-0.360955</td>\n",
       "      <td>-0.227658</td>\n",
       "      <td>0</td>\n",
       "      <td>2</td>\n",
       "      <td>1.042634</td>\n",
       "      <td>0.0</td>\n",
       "      <td>1.0</td>\n",
       "      <td>0.0</td>\n",
       "      <td>1.0</td>\n",
       "    </tr>\n",
       "    <tr>\n",
       "      <th>...</th>\n",
       "      <td>...</td>\n",
       "      <td>...</td>\n",
       "      <td>...</td>\n",
       "      <td>...</td>\n",
       "      <td>...</td>\n",
       "      <td>...</td>\n",
       "      <td>...</td>\n",
       "      <td>...</td>\n",
       "      <td>...</td>\n",
       "      <td>...</td>\n",
       "      <td>...</td>\n",
       "      <td>...</td>\n",
       "      <td>...</td>\n",
       "      <td>...</td>\n",
       "      <td>...</td>\n",
       "      <td>...</td>\n",
       "    </tr>\n",
       "    <tr>\n",
       "      <th>10369</th>\n",
       "      <td>121C, Đường Cư xá Phú Thọ Hòa, Phường 5, Quận ...</td>\n",
       "      <td>-0.251743</td>\n",
       "      <td>-1.149770</td>\n",
       "      <td>0.365152</td>\n",
       "      <td>Đông - Nam</td>\n",
       "      <td>Unknown</td>\n",
       "      <td>4</td>\n",
       "      <td>0.960102</td>\n",
       "      <td>-0.227658</td>\n",
       "      <td>0</td>\n",
       "      <td>1</td>\n",
       "      <td>1.612713</td>\n",
       "      <td>0.0</td>\n",
       "      <td>1.0</td>\n",
       "      <td>0.0</td>\n",
       "      <td>1.0</td>\n",
       "    </tr>\n",
       "    <tr>\n",
       "      <th>10370</th>\n",
       "      <td>Đường Nơ Trang Long, Phường 13, Bình Thạnh, Hồ...</td>\n",
       "      <td>0.229860</td>\n",
       "      <td>0.248976</td>\n",
       "      <td>0.365152</td>\n",
       "      <td>Unknown</td>\n",
       "      <td>Unknown</td>\n",
       "      <td>4</td>\n",
       "      <td>-0.360955</td>\n",
       "      <td>-0.227658</td>\n",
       "      <td>2</td>\n",
       "      <td>2</td>\n",
       "      <td>1.280167</td>\n",
       "      <td>0.0</td>\n",
       "      <td>1.0</td>\n",
       "      <td>0.0</td>\n",
       "      <td>1.0</td>\n",
       "    </tr>\n",
       "    <tr>\n",
       "      <th>10371</th>\n",
       "      <td>Đường Lê Văn Lương, Phường Tân Kiểng, Quận 7, ...</td>\n",
       "      <td>-0.908475</td>\n",
       "      <td>-1.149770</td>\n",
       "      <td>0.365152</td>\n",
       "      <td>Unknown</td>\n",
       "      <td>Unknown</td>\n",
       "      <td>3</td>\n",
       "      <td>0.960102</td>\n",
       "      <td>-0.227658</td>\n",
       "      <td>0</td>\n",
       "      <td>2</td>\n",
       "      <td>-0.525085</td>\n",
       "      <td>0.0</td>\n",
       "      <td>1.0</td>\n",
       "      <td>0.0</td>\n",
       "      <td>1.0</td>\n",
       "    </tr>\n",
       "    <tr>\n",
       "      <th>10372</th>\n",
       "      <td>Phường Bình Nhâm, Thuận An, Bình Dương</td>\n",
       "      <td>1.017937</td>\n",
       "      <td>1.647722</td>\n",
       "      <td>1.736165</td>\n",
       "      <td>Tây - Bắc</td>\n",
       "      <td>Tây - Bắc</td>\n",
       "      <td>2</td>\n",
       "      <td>-0.360955</td>\n",
       "      <td>-1.435360</td>\n",
       "      <td>0</td>\n",
       "      <td>0</td>\n",
       "      <td>-1.023904</td>\n",
       "      <td>0.0</td>\n",
       "      <td>1.0</td>\n",
       "      <td>0.0</td>\n",
       "      <td>1.0</td>\n",
       "    </tr>\n",
       "    <tr>\n",
       "      <th>10373</th>\n",
       "      <td>Đường Mỹ Đình, Phường Mỹ Đình 1, Nam Từ Liêm, ...</td>\n",
       "      <td>-1.127385</td>\n",
       "      <td>0.248976</td>\n",
       "      <td>0.365152</td>\n",
       "      <td>Unknown</td>\n",
       "      <td>Unknown</td>\n",
       "      <td>5</td>\n",
       "      <td>-0.360955</td>\n",
       "      <td>0.980044</td>\n",
       "      <td>0</td>\n",
       "      <td>1</td>\n",
       "      <td>-0.145032</td>\n",
       "      <td>0.0</td>\n",
       "      <td>1.0</td>\n",
       "      <td>0.0</td>\n",
       "      <td>1.0</td>\n",
       "    </tr>\n",
       "  </tbody>\n",
       "</table>\n",
       "<p>10374 rows × 16 columns</p>\n",
       "</div>"
      ],
      "text/plain": [
       "                                                 Address      Area  Frontage  \\\n",
       "0      Đường Phan Văn Trị, Phường 7, Gò Vấp, Hồ Chí Minh  2.068707  0.248976   \n",
       "1      Hẻm 128, Đường Bành Văn Trân, Phường 7, Tân Bì... -0.645782 -1.429519   \n",
       "2      Đường Nguyễn Khang, Phường Yên Hòa, Cầu Giấy, ... -0.645782 -2.548516   \n",
       "3            Phường Bình Hưng Hòa, Bình Tân, Hồ Chí Minh  0.054731 -1.149770   \n",
       "4                       Phường 12, Tân Bình, Hồ Chí Minh  1.017937  1.647722   \n",
       "...                                                  ...       ...       ...   \n",
       "10369  121C, Đường Cư xá Phú Thọ Hòa, Phường 5, Quận ... -0.251743 -1.149770   \n",
       "10370  Đường Nơ Trang Long, Phường 13, Bình Thạnh, Hồ...  0.229860  0.248976   \n",
       "10371  Đường Lê Văn Lương, Phường Tân Kiểng, Quận 7, ... -0.908475 -1.149770   \n",
       "10372             Phường Bình Nhâm, Thuận An, Bình Dương  1.017937  1.647722   \n",
       "10373  Đường Mỹ Đình, Phường Mỹ Đình 1, Nam Từ Liêm, ... -1.127385  0.248976   \n",
       "\n",
       "       Access_Road House_direction Balcony_direction  Floors  Bedrooms  \\\n",
       "0         0.365152         Unknown           Unknown       3 -0.360955   \n",
       "1         0.365152         Unknown           Unknown       3 -0.360955   \n",
       "2         0.365152         Unknown           Unknown       4  0.960102   \n",
       "3         0.365152         Unknown           Unknown       3 -0.360955   \n",
       "4         0.365152         Unknown           Unknown       4 -0.360955   \n",
       "...            ...             ...               ...     ...       ...   \n",
       "10369     0.365152      Đông - Nam           Unknown       4  0.960102   \n",
       "10370     0.365152         Unknown           Unknown       4 -0.360955   \n",
       "10371     0.365152         Unknown           Unknown       3  0.960102   \n",
       "10372     1.736165       Tây - Bắc         Tây - Bắc       2 -0.360955   \n",
       "10373     0.365152         Unknown           Unknown       5 -0.360955   \n",
       "\n",
       "       Bathrooms  Legal_status  Furniture_state     Price  \\\n",
       "0      -0.227658             0                2  1.090140   \n",
       "1      -0.227658             0                2  0.472554   \n",
       "2       0.980044             0                1  1.351427   \n",
       "3      -0.227658             0                0 -0.620098   \n",
       "4      -0.227658             0                2  1.042634   \n",
       "...          ...           ...              ...       ...   \n",
       "10369  -0.227658             0                1  1.612713   \n",
       "10370  -0.227658             2                2  1.280167   \n",
       "10371  -0.227658             0                2 -0.525085   \n",
       "10372  -1.435360             0                0 -1.023904   \n",
       "10373   0.980044             0                1 -0.145032   \n",
       "\n",
       "       House_direction_sin  House_direction_cos  Balcony_direction_sin  \\\n",
       "0                      0.0                  1.0                    0.0   \n",
       "1                      0.0                  1.0                    0.0   \n",
       "2                      0.0                  1.0                    0.0   \n",
       "3                      0.0                  1.0                    0.0   \n",
       "4                      0.0                  1.0                    0.0   \n",
       "...                    ...                  ...                    ...   \n",
       "10369                  0.0                  1.0                    0.0   \n",
       "10370                  0.0                  1.0                    0.0   \n",
       "10371                  0.0                  1.0                    0.0   \n",
       "10372                  0.0                  1.0                    0.0   \n",
       "10373                  0.0                  1.0                    0.0   \n",
       "\n",
       "       Balcony_direction_cos  \n",
       "0                        1.0  \n",
       "1                        1.0  \n",
       "2                        1.0  \n",
       "3                        1.0  \n",
       "4                        1.0  \n",
       "...                      ...  \n",
       "10369                    1.0  \n",
       "10370                    1.0  \n",
       "10371                    1.0  \n",
       "10372                    1.0  \n",
       "10373                    1.0  \n",
       "\n",
       "[10374 rows x 16 columns]"
      ]
     },
     "execution_count": 54,
     "metadata": {},
     "output_type": "execute_result"
    }
   ],
   "source": [
    "pd.read_excel(f'{exps_dir}/data/train.xlsx')"
   ]
  },
  {
   "cell_type": "markdown",
   "id": "2a7c8447",
   "metadata": {},
   "source": [
    "# TIỀN XỬ LÝ DỮ LIỆU"
   ]
  },
  {
   "cell_type": "code",
   "execution_count": null,
   "id": "dfdd469d",
   "metadata": {},
   "outputs": [
    {
     "name": "stdout",
     "output_type": "stream",
     "text": [
      "train: 10374 / test: 5111 - Tỷ lệ: 0.670, 0.330\n"
     ]
    }
   ],
   "source": [
    "# create explicit copies of the splits\n",
    "vietnam_housing_train = vietnam_housing.iloc[index_train].copy()\n",
    "vietnam_housing_test  = vietnam_housing.iloc[index_test].copy()\n",
    "print(f\"train: {len(vietnam_housing_train)} / test: {len(vietnam_housing_test)} - Tỷ lệ: {len(vietnam_housing_train) / len(vietnam_housing):.3f}, {len(vietnam_housing_test) / len(vietnam_housing):.3f}\")"
   ]
  },
  {
   "cell_type": "code",
   "execution_count": null,
   "id": "09db439d",
   "metadata": {},
   "outputs": [
    {
     "data": {
      "text/plain": [
       "Address                  False\n",
       "Area                     False\n",
       "Frontage                 False\n",
       "Access_Road              False\n",
       "House_direction          False\n",
       "Balcony_direction        False\n",
       "Floors                   False\n",
       "Bedrooms                 False\n",
       "Bathrooms                False\n",
       "Legal_status             False\n",
       "Furniture_state          False\n",
       "Price                    False\n",
       "House_direction_sin      False\n",
       "House_direction_cos      False\n",
       "Balcony_direction_sin    False\n",
       "Balcony_direction_cos    False\n",
       "dtype: bool"
      ]
     },
     "execution_count": 62,
     "metadata": {},
     "output_type": "execute_result"
    }
   ],
   "source": [
    "vietnam_housing_train.isna().any()"
   ]
  },
  {
   "cell_type": "code",
   "execution_count": null,
   "id": "bce2ee6a",
   "metadata": {},
   "outputs": [],
   "source": [
    "vietnam_housing_train.dropna(inplace=True)"
   ]
  },
  {
   "cell_type": "code",
   "execution_count": null,
   "id": "e37088c9",
   "metadata": {},
   "outputs": [
    {
     "data": {
      "text/plain": [
       "np.True_"
      ]
     },
     "execution_count": 64,
     "metadata": {},
     "output_type": "execute_result"
    }
   ],
   "source": [
    "vietnam_housing_train.duplicated().any()"
   ]
  },
  {
   "cell_type": "code",
   "execution_count": null,
   "id": "d704eb04",
   "metadata": {},
   "outputs": [],
   "source": [
    "vietnam_housing_train.drop_duplicates(inplace=True)"
   ]
  },
  {
   "cell_type": "code",
   "execution_count": null,
   "id": "96f9b8a1",
   "metadata": {},
   "outputs": [],
   "source": [
    "# Safe NA fill: tìm biến với khoảng trắng hoặc gạch dưới trước khi fillna\n",
    "vietnam_housing_train = vietnam_housing_train.copy()\n",
    "\n",
    "def colname(df, name):\n",
    "    for cand in (name, name.replace(' ', '_'), name.lower().replace(' ', '_')):\n",
    "        if cand in df.columns:\n",
    "            return cand\n",
    "    return None\n",
    "\n",
    "for src in ['Frontage','Access Road','Floors','Bedrooms','Bathrooms','Area','Price']:\n",
    "    c = colname(vietnam_housing_train, src)\n",
    "    if c:\n",
    "        vietnam_housing_train[c] = vietnam_housing_train[c].fillna(vietnam_housing_train[c].median())\n",
    "    else:\n",
    "        print(f\"Warning: numeric column not found: {src}\")\n",
    "\n",
    "for src in ['House direction','Balcony direction','Legal status','Furniture state','Address']:\n",
    "    c = colname(vietnam_housing_train, src)\n",
    "    if c:\n",
    "        vietnam_housing_train[c] = vietnam_housing_train[c].fillna('Unknown')\n",
    "    else:\n",
    "        print(f\"Warning: categorical column not found: {src}\")\n",
    "# ...existing code..."
   ]
  },
  {
   "cell_type": "code",
   "execution_count": null,
   "id": "96599f6f",
   "metadata": {},
   "outputs": [
    {
     "data": {
      "text/html": [
       "<div>\n",
       "<style scoped>\n",
       "    .dataframe tbody tr th:only-of-type {\n",
       "        vertical-align: middle;\n",
       "    }\n",
       "\n",
       "    .dataframe tbody tr th {\n",
       "        vertical-align: top;\n",
       "    }\n",
       "\n",
       "    .dataframe thead th {\n",
       "        text-align: right;\n",
       "    }\n",
       "</style>\n",
       "<table border=\"1\" class=\"dataframe\">\n",
       "  <thead>\n",
       "    <tr style=\"text-align: right;\">\n",
       "      <th></th>\n",
       "      <th>Area</th>\n",
       "      <th>Frontage</th>\n",
       "      <th>Access_Road</th>\n",
       "      <th>Floors</th>\n",
       "      <th>Bedrooms</th>\n",
       "      <th>Bathrooms</th>\n",
       "      <th>Legal_status</th>\n",
       "      <th>Furniture_state</th>\n",
       "      <th>Price</th>\n",
       "      <th>House_direction_sin</th>\n",
       "      <th>House_direction_cos</th>\n",
       "      <th>Balcony_direction_sin</th>\n",
       "      <th>Balcony_direction_cos</th>\n",
       "    </tr>\n",
       "  </thead>\n",
       "  <tbody>\n",
       "    <tr>\n",
       "      <th>count</th>\n",
       "      <td>10367.000000</td>\n",
       "      <td>10367.000000</td>\n",
       "      <td>10367.000000</td>\n",
       "      <td>10367.000000</td>\n",
       "      <td>10367.000000</td>\n",
       "      <td>10367.000000</td>\n",
       "      <td>10367.000000</td>\n",
       "      <td>10367.000000</td>\n",
       "      <td>10367.000000</td>\n",
       "      <td>10367.000000</td>\n",
       "      <td>10367.000000</td>\n",
       "      <td>10367.000000</td>\n",
       "      <td>10367.000000</td>\n",
       "    </tr>\n",
       "    <tr>\n",
       "      <th>mean</th>\n",
       "      <td>0.001575</td>\n",
       "      <td>-0.007426</td>\n",
       "      <td>0.001181</td>\n",
       "      <td>3.434938</td>\n",
       "      <td>-0.009761</td>\n",
       "      <td>-0.008881</td>\n",
       "      <td>0.370310</td>\n",
       "      <td>1.329507</td>\n",
       "      <td>-0.001785</td>\n",
       "      <td>0.001158</td>\n",
       "      <td>0.928041</td>\n",
       "      <td>0.002219</td>\n",
       "      <td>0.964213</td>\n",
       "    </tr>\n",
       "    <tr>\n",
       "      <th>std</th>\n",
       "      <td>1.003203</td>\n",
       "      <td>1.006863</td>\n",
       "      <td>0.992706</td>\n",
       "      <td>1.188482</td>\n",
       "      <td>0.995916</td>\n",
       "      <td>0.995396</td>\n",
       "      <td>0.766822</td>\n",
       "      <td>0.741822</td>\n",
       "      <td>0.998008</td>\n",
       "      <td>0.193465</td>\n",
       "      <td>0.318313</td>\n",
       "      <td>0.137839</td>\n",
       "      <td>0.226484</td>\n",
       "    </tr>\n",
       "    <tr>\n",
       "      <th>min</th>\n",
       "      <td>-2.265720</td>\n",
       "      <td>-3.247889</td>\n",
       "      <td>-3.062379</td>\n",
       "      <td>1.000000</td>\n",
       "      <td>-1.682012</td>\n",
       "      <td>-1.435360</td>\n",
       "      <td>0.000000</td>\n",
       "      <td>0.000000</td>\n",
       "      <td>-2.282830</td>\n",
       "      <td>-1.000000</td>\n",
       "      <td>-1.000000</td>\n",
       "      <td>-1.000000</td>\n",
       "      <td>-1.000000</td>\n",
       "    </tr>\n",
       "    <tr>\n",
       "      <th>25%</th>\n",
       "      <td>-0.777129</td>\n",
       "      <td>-0.590272</td>\n",
       "      <td>0.365152</td>\n",
       "      <td>3.000000</td>\n",
       "      <td>-0.360955</td>\n",
       "      <td>-0.227658</td>\n",
       "      <td>0.000000</td>\n",
       "      <td>1.000000</td>\n",
       "      <td>-0.743615</td>\n",
       "      <td>0.000000</td>\n",
       "      <td>1.000000</td>\n",
       "      <td>0.000000</td>\n",
       "      <td>1.000000</td>\n",
       "    </tr>\n",
       "    <tr>\n",
       "      <th>50%</th>\n",
       "      <td>-0.207961</td>\n",
       "      <td>0.248976</td>\n",
       "      <td>0.365152</td>\n",
       "      <td>3.000000</td>\n",
       "      <td>-0.360955</td>\n",
       "      <td>-0.227658</td>\n",
       "      <td>0.000000</td>\n",
       "      <td>1.000000</td>\n",
       "      <td>-0.002512</td>\n",
       "      <td>0.000000</td>\n",
       "      <td>1.000000</td>\n",
       "      <td>0.000000</td>\n",
       "      <td>1.000000</td>\n",
       "    </tr>\n",
       "    <tr>\n",
       "      <th>75%</th>\n",
       "      <td>0.580116</td>\n",
       "      <td>0.248976</td>\n",
       "      <td>0.365152</td>\n",
       "      <td>4.000000</td>\n",
       "      <td>0.960102</td>\n",
       "      <td>0.980044</td>\n",
       "      <td>0.000000</td>\n",
       "      <td>2.000000</td>\n",
       "      <td>0.710087</td>\n",
       "      <td>0.000000</td>\n",
       "      <td>1.000000</td>\n",
       "      <td>0.000000</td>\n",
       "      <td>1.000000</td>\n",
       "    </tr>\n",
       "    <tr>\n",
       "      <th>max</th>\n",
       "      <td>3.097586</td>\n",
       "      <td>2.347095</td>\n",
       "      <td>2.421671</td>\n",
       "      <td>7.000000</td>\n",
       "      <td>2.281158</td>\n",
       "      <td>2.187746</td>\n",
       "      <td>2.000000</td>\n",
       "      <td>2.000000</td>\n",
       "      <td>2.230299</td>\n",
       "      <td>1.000000</td>\n",
       "      <td>1.000000</td>\n",
       "      <td>1.000000</td>\n",
       "      <td>1.000000</td>\n",
       "    </tr>\n",
       "  </tbody>\n",
       "</table>\n",
       "</div>"
      ],
      "text/plain": [
       "               Area      Frontage   Access_Road        Floors      Bedrooms  \\\n",
       "count  10367.000000  10367.000000  10367.000000  10367.000000  10367.000000   \n",
       "mean       0.001575     -0.007426      0.001181      3.434938     -0.009761   \n",
       "std        1.003203      1.006863      0.992706      1.188482      0.995916   \n",
       "min       -2.265720     -3.247889     -3.062379      1.000000     -1.682012   \n",
       "25%       -0.777129     -0.590272      0.365152      3.000000     -0.360955   \n",
       "50%       -0.207961      0.248976      0.365152      3.000000     -0.360955   \n",
       "75%        0.580116      0.248976      0.365152      4.000000      0.960102   \n",
       "max        3.097586      2.347095      2.421671      7.000000      2.281158   \n",
       "\n",
       "          Bathrooms  Legal_status  Furniture_state         Price  \\\n",
       "count  10367.000000  10367.000000     10367.000000  10367.000000   \n",
       "mean      -0.008881      0.370310         1.329507     -0.001785   \n",
       "std        0.995396      0.766822         0.741822      0.998008   \n",
       "min       -1.435360      0.000000         0.000000     -2.282830   \n",
       "25%       -0.227658      0.000000         1.000000     -0.743615   \n",
       "50%       -0.227658      0.000000         1.000000     -0.002512   \n",
       "75%        0.980044      0.000000         2.000000      0.710087   \n",
       "max        2.187746      2.000000         2.000000      2.230299   \n",
       "\n",
       "       House_direction_sin  House_direction_cos  Balcony_direction_sin  \\\n",
       "count         10367.000000         10367.000000           10367.000000   \n",
       "mean              0.001158             0.928041               0.002219   \n",
       "std               0.193465             0.318313               0.137839   \n",
       "min              -1.000000            -1.000000              -1.000000   \n",
       "25%               0.000000             1.000000               0.000000   \n",
       "50%               0.000000             1.000000               0.000000   \n",
       "75%               0.000000             1.000000               0.000000   \n",
       "max               1.000000             1.000000               1.000000   \n",
       "\n",
       "       Balcony_direction_cos  \n",
       "count           10367.000000  \n",
       "mean                0.964213  \n",
       "std                 0.226484  \n",
       "min                -1.000000  \n",
       "25%                 1.000000  \n",
       "50%                 1.000000  \n",
       "75%                 1.000000  \n",
       "max                 1.000000  "
      ]
     },
     "execution_count": 67,
     "metadata": {},
     "output_type": "execute_result"
    }
   ],
   "source": [
    "# Kiểm tra trùng lặp lần nữa\n",
    "vietnam_housing_train.drop_duplicates(inplace=True)\n",
    "vietnam_housing_train.describe()"
   ]
  },
  {
   "cell_type": "markdown",
   "id": "45c9dead",
   "metadata": {},
   "source": [
    "### Chuẩn hóa dữ liệu"
   ]
  },
  {
   "cell_type": "code",
   "execution_count": null,
   "id": "dd0b4e3a",
   "metadata": {},
   "outputs": [],
   "source": [
    "from sklearn.preprocessing import LabelEncoder, StandardScaler\n",
    "\n",
    "# Sao chép dữ liệu để không làm thay đổi bản gốc\n",
    "vietnam_housing_train = pd.DataFrame(vietnam_housing_train)\n",
    "vietnam_housing_clean = vietnam_housing_train.copy()\n",
    "\n",
    "def find_col(df, name):\n",
    "    for cand in (name, name.replace(' ', '_'), name.replace(' ', '_').lower()):\n",
    "        if cand in df.columns:\n",
    "            return cand\n",
    "    return None\n",
    "\n",
    "# Hàm mã hóa hướng an toàn (tạo cột sin/cos với tên có gạch dưới)\n",
    "def encode_direction(df, name):\n",
    "    angle_map = {\n",
    "        'Đông': 0, 'Đông Nam': 45, 'Nam': 90, 'Tây Nam': 135,\n",
    "        'Tây': 180, 'Tây Bắc': 225, 'Bắc': 270, 'Đông Bắc': 315\n",
    "    }\n",
    "    col = find_col(df, name)\n",
    "    out_base = name.replace(' ', '_')\n",
    "    if col is None:\n",
    "        print(f\"Warning: direction column not found: {name} -> creating default {out_base}_sin/{out_base}_cos\")\n",
    "        df[out_base + '_sin'] = 0.0\n",
    "        df[out_base + '_cos'] = 1.0\n",
    "        return df\n",
    "    angles = df[col].map(angle_map).fillna(0).astype(float)\n",
    "    df[out_base + '_sin'] = np.sin(np.deg2rad(angles))\n",
    "    df[out_base + '_cos'] = np.cos(np.deg2rad(angles))\n",
    "    return df\n",
    "\n",
    "# Mã hóa hướng nhà & ban công -\n",
    "vietnam_housing_clean = encode_direction(vietnam_housing_clean, 'House direction')\n",
    "vietnam_housing_clean = encode_direction(vietnam_housing_clean, 'Balcony direction')\n",
    "\n",
    "# Mã hóa CÁC BIẾN PHÂN LOẠI KHÁC phân loại khác \n",
    "# --- Mã hóa các biến phân loại khác ---\n",
    "for src in ['Legal status', 'Furniture state']:\n",
    "    col = find_col(vietnam_housing_clean, src)\n",
    "    out_col = src.replace(' ', '_')\n",
    "    if col:\n",
    "        le = LabelEncoder()\n",
    "        vietnam_housing_clean[out_col] = le.fit_transform(vietnam_housing_clean[col].astype(str))\n",
    "    else:\n",
    "        print(f\" Warning: categorical column not found: {src}\")\n",
    "\n",
    "# --- One-Hot Encoding (sử dụng cột mới có dấu gạch dưới) ---\n",
    "vietnam_housing_clean = pd.get_dummies(\n",
    "    vietnam_housing_clean,\n",
    "    columns=['Legal_status', 'Furniture_state'],\n",
    "    drop_first=True\n",
    ")"
   ]
  },
  {
   "cell_type": "code",
   "execution_count": null,
   "id": "f3e782a9",
   "metadata": {},
   "outputs": [
    {
     "name": "stdout",
     "output_type": "stream",
     "text": [
      "Dữ liệu sau khi mã hóa & chuẩn hóa:\n",
      "                                                 Address      Area  Frontage  \\\n",
      "19251  Đường Phan Văn Trị, Phường 7, Gò Vấp, Hồ Chí Minh  2.060632  0.254667   \n",
      "1993   Hẻm 128, Đường Bành Văn Trân, Phường 7, Tân Bì... -0.645322 -1.412468   \n",
      "12709  Đường Nguyễn Khang, Phường Yên Hòa, Cầu Giấy, ... -0.645322 -2.523892   \n",
      "8352         Phường Bình Hưng Hòa, Bình Tân, Hồ Chí Minh  0.052989 -1.134613   \n",
      "10463                   Phường 12, Tân Bình, Hồ Chí Minh  1.013166  1.643946   \n",
      "\n",
      "       Access_Road House_direction Balcony_direction  Floors  Bedrooms  \\\n",
      "19251     0.366663         Unknown           Unknown     3.0 -0.352652   \n",
      "1993      0.366663         Unknown           Unknown     3.0 -0.352652   \n",
      "12709     0.366663         Unknown           Unknown     4.0  0.973886   \n",
      "8352      0.366663         Unknown           Unknown     3.0 -0.352652   \n",
      "10463     0.366663         Unknown           Unknown     4.0 -0.352652   \n",
      "\n",
      "       Bathrooms     Price  House_direction_sin  House_direction_cos  \\\n",
      "19251  -0.219800  1.094157                  0.0                  1.0   \n",
      "1993   -0.219800  0.475309                  0.0                  1.0   \n",
      "12709   0.993547  1.355978                  0.0                  1.0   \n",
      "8352   -0.219800 -0.619577                  0.0                  1.0   \n",
      "10463  -0.219800  1.046553                  0.0                  1.0   \n",
      "\n",
      "       Balcony_direction_sin  Balcony_direction_cos  Legal_status_1  \\\n",
      "19251                    0.0                    1.0           False   \n",
      "1993                     0.0                    1.0           False   \n",
      "12709                    0.0                    1.0           False   \n",
      "8352                     0.0                    1.0           False   \n",
      "10463                    0.0                    1.0           False   \n",
      "\n",
      "       Legal_status_2  Furniture_state_1  Furniture_state_2  \n",
      "19251           False              False               True  \n",
      "1993            False              False               True  \n",
      "12709           False               True              False  \n",
      "8352            False              False              False  \n",
      "10463           False              False               True  \n",
      "Mean sau chuẩn hóa:\n",
      "Area          -0.0\n",
      "Frontage       0.0\n",
      "Access_Road    0.0\n",
      "Bedrooms       0.0\n",
      "Bathrooms     -0.0\n",
      "Price         -0.0\n",
      "dtype: float64\n",
      "Std sau chuẩn hóa:\n",
      "Area           1.0\n",
      "Frontage       1.0\n",
      "Access_Road    1.0\n",
      "Bedrooms       1.0\n",
      "Bathrooms      1.0\n",
      "Price          1.0\n",
      "dtype: float64\n"
     ]
    }
   ],
   "source": [
    "# Chuẩn hóa dữ liệu số\n",
    "cols_to_scale = ['Area', 'Frontage', 'Access_Road', 'Bedrooms', 'Bathrooms', 'Price']\n",
    "scaler = StandardScaler()\n",
    "\n",
    "vietnam_housing_clean[cols_to_scale] = scaler.fit_transform(vietnam_housing_clean[cols_to_scale])\n",
    "\n",
    "# Kiểm tra kết quả\n",
    "print(\"Dữ liệu sau khi mã hóa & chuẩn hóa:\")\n",
    "print(vietnam_housing_clean[[\n",
    "    'Address', 'Area', 'Frontage', 'Access_Road', 'House_direction',\n",
    "    'Balcony_direction', 'Floors', 'Bedrooms', 'Bathrooms', 'Price',\n",
    "    'House_direction_sin', 'House_direction_cos',\n",
    "    'Balcony_direction_sin', 'Balcony_direction_cos',\n",
    "    'Legal_status_1', 'Legal_status_2',\n",
    "    'Furniture_state_1', 'Furniture_state_2'\n",
    "]].head())\n",
    "\n",
    "print(\"Mean sau chuẩn hóa:\")\n",
    "print(vietnam_housing_clean[cols_to_scale].mean().round(2))\n",
    "\n",
    "print(\"Std sau chuẩn hóa:\")\n",
    "print(vietnam_housing_clean[cols_to_scale].std().round(2))\n"
   ]
  },
  {
   "cell_type": "code",
   "execution_count": null,
   "id": "06f1317a",
   "metadata": {},
   "outputs": [
    {
     "data": {
      "text/plain": [
       "<Axes: title={'center': 'Boxplot sau khi chuẩn hóa (StandardScaler)'}>"
      ]
     },
     "execution_count": 154,
     "metadata": {},
     "output_type": "execute_result"
    },
    {
     "data": {
      "image/png": "[encoded data removed]",
      "text/plain": [
       "<Figure size 1200x600 with 1 Axes>"
      ]
     },
     "metadata": {},
     "output_type": "display_data"
    }
   ],
   "source": [
    "# Vẽ Boxplot sau khi chuẩn hóa\n",
    "vietnam_housing_clean[cols_to_scale].plot(kind=\"box\", figsize=(12,6), title=\"Boxplot sau khi chuẩn hóa (StandardScaler)\")"
   ]
  },
  {
   "cell_type": "code",
   "execution_count": null,
   "id": "72ab2d41",
   "metadata": {},
   "outputs": [
    {
     "name": "stdout",
     "output_type": "stream",
     "text": [
      "Trước / Sau: 4930 / 4930\n"
     ]
    },
    {
     "data": {
      "text/plain": [
       "<Axes: title={'center': 'Boxplot sau khi loại Outlier (IQR)'}>"
      ]
     },
     "execution_count": 148,
     "metadata": {},
     "output_type": "execute_result"
    },
    {
     "data": {
      "image/png": "[encoded data removed]",
      "text/plain": [
       "<Figure size 1000x500 with 1 Axes>"
      ]
     },
     "metadata": {},
     "output_type": "display_data"
    }
   ],
   "source": [
    "cols = ['Area','Frontage','Access_Road']\n",
    "\n",
    "mask = np.ones(len(vietnam_housing_clean), bool)\n",
    "for c in cols:\n",
    "    q1, q3 = vietnam_housing_clean[c].quantile([0.25, 0.75])\n",
    "    iqr = q3 - q1\n",
    "    mask &= (vietnam_housing_clean[c] >= q1 - 1.5*iqr) & (vietnam_housing_clean[c] <= q3 + 1.5*iqr)\n",
    "\n",
    "vietnam_housing_clean = vietnam_housing_clean[mask].copy()\n",
    "print(\"Trước / Sau:\", len(mask), \"/\", len(vietnam_housing_clean))\n",
    "\n",
    "from sklearn.preprocessing import StandardScaler\n",
    "scaler = StandardScaler()\n",
    "scale_cols = ['Area','Frontage','Access_Road','Bedrooms','Bathrooms','Price']\n",
    "vietnam_housing_clean[scale_cols] = scaler.fit_transform(vietnam_housing_clean[scale_cols])\n",
    "\n",
    "vietnam_housing_clean[scale_cols].plot(kind='box', figsize=(10,5),\n",
    "    title='Boxplot sau khi loại Outlier (IQR)')\n"
   ]
  },
  {
   "cell_type": "code",
   "execution_count": null,
   "id": "9ca2d9b4",
   "metadata": {},
   "outputs": [
    {
     "data": {
      "text/plain": [
       "{'with_mean': True,\n",
       " 'with_std': True,\n",
       " 'copy': True,\n",
       " 'feature_names_in_': array(['Area', 'Frontage', 'Access_Road', 'Bedrooms', 'Bathrooms',\n",
       "        'Price'], dtype=object),\n",
       " 'n_features_in_': 6,\n",
       " 'n_samples_seen_': np.int64(4930),\n",
       " 'mean_': array([-7.92694736e-18,  0.00000000e+00,  0.00000000e+00, -6.48568420e-18,\n",
       "         1.08094737e-17, -5.40473683e-18]),\n",
       " 'var_': array([1., 0., 0., 1., 1., 1.]),\n",
       " 'scale_': array([1., 1., 1., 1., 1., 1.])}"
      ]
     },
     "execution_count": 151,
     "metadata": {},
     "output_type": "execute_result"
    }
   ],
   "source": [
    "scaler.__dict__"
   ]
  },
  {
   "cell_type": "code",
   "execution_count": null,
   "id": "35191ff9",
   "metadata": {},
   "outputs": [
    {
     "data": {
      "text/html": [
       "<div>\n",
       "<style scoped>\n",
       "    .dataframe tbody tr th:only-of-type {\n",
       "        vertical-align: middle;\n",
       "    }\n",
       "\n",
       "    .dataframe tbody tr th {\n",
       "        vertical-align: top;\n",
       "    }\n",
       "\n",
       "    .dataframe thead th {\n",
       "        text-align: right;\n",
       "    }\n",
       "</style>\n",
       "<table border=\"1\" class=\"dataframe\">\n",
       "  <thead>\n",
       "    <tr style=\"text-align: right;\">\n",
       "      <th></th>\n",
       "      <th>Frontage</th>\n",
       "      <th>Access_Road</th>\n",
       "    </tr>\n",
       "  </thead>\n",
       "  <tbody>\n",
       "    <tr>\n",
       "      <th>count</th>\n",
       "      <td>4930.0</td>\n",
       "      <td>4930.0</td>\n",
       "    </tr>\n",
       "    <tr>\n",
       "      <th>mean</th>\n",
       "      <td>0.0</td>\n",
       "      <td>0.0</td>\n",
       "    </tr>\n",
       "    <tr>\n",
       "      <th>std</th>\n",
       "      <td>0.0</td>\n",
       "      <td>0.0</td>\n",
       "    </tr>\n",
       "    <tr>\n",
       "      <th>min</th>\n",
       "      <td>0.0</td>\n",
       "      <td>0.0</td>\n",
       "    </tr>\n",
       "    <tr>\n",
       "      <th>25%</th>\n",
       "      <td>0.0</td>\n",
       "      <td>0.0</td>\n",
       "    </tr>\n",
       "    <tr>\n",
       "      <th>50%</th>\n",
       "      <td>0.0</td>\n",
       "      <td>0.0</td>\n",
       "    </tr>\n",
       "    <tr>\n",
       "      <th>75%</th>\n",
       "      <td>0.0</td>\n",
       "      <td>0.0</td>\n",
       "    </tr>\n",
       "    <tr>\n",
       "      <th>max</th>\n",
       "      <td>0.0</td>\n",
       "      <td>0.0</td>\n",
       "    </tr>\n",
       "  </tbody>\n",
       "</table>\n",
       "</div>"
      ],
      "text/plain": [
       "       Frontage  Access_Road\n",
       "count    4930.0       4930.0\n",
       "mean        0.0          0.0\n",
       "std         0.0          0.0\n",
       "min         0.0          0.0\n",
       "25%         0.0          0.0\n",
       "50%         0.0          0.0\n",
       "75%         0.0          0.0\n",
       "max         0.0          0.0"
      ]
     },
     "execution_count": 152,
     "metadata": {},
     "output_type": "execute_result"
    }
   ],
   "source": [
    "vietnam_housing_clean[['Frontage','Access_Road']].describe()\n"
   ]
  },
  {
   "cell_type": "code",
   "execution_count": null,
   "id": "826c5c1a",
   "metadata": {},
   "outputs": [
    {
     "data": {
      "text/html": [
       "<div>\n",
       "<style scoped>\n",
       "    .dataframe tbody tr th:only-of-type {\n",
       "        vertical-align: middle;\n",
       "    }\n",
       "\n",
       "    .dataframe tbody tr th {\n",
       "        vertical-align: top;\n",
       "    }\n",
       "\n",
       "    .dataframe thead th {\n",
       "        text-align: right;\n",
       "    }\n",
       "</style>\n",
       "<table border=\"1\" class=\"dataframe\">\n",
       "  <thead>\n",
       "    <tr style=\"text-align: right;\">\n",
       "      <th></th>\n",
       "      <th>Frontage</th>\n",
       "      <th>Access_Road</th>\n",
       "    </tr>\n",
       "  </thead>\n",
       "  <tbody>\n",
       "    <tr>\n",
       "      <th>count</th>\n",
       "      <td>4930.0</td>\n",
       "      <td>4930.0</td>\n",
       "    </tr>\n",
       "    <tr>\n",
       "      <th>mean</th>\n",
       "      <td>0.0</td>\n",
       "      <td>0.0</td>\n",
       "    </tr>\n",
       "    <tr>\n",
       "      <th>std</th>\n",
       "      <td>0.0</td>\n",
       "      <td>0.0</td>\n",
       "    </tr>\n",
       "    <tr>\n",
       "      <th>min</th>\n",
       "      <td>0.0</td>\n",
       "      <td>0.0</td>\n",
       "    </tr>\n",
       "    <tr>\n",
       "      <th>25%</th>\n",
       "      <td>0.0</td>\n",
       "      <td>0.0</td>\n",
       "    </tr>\n",
       "    <tr>\n",
       "      <th>50%</th>\n",
       "      <td>0.0</td>\n",
       "      <td>0.0</td>\n",
       "    </tr>\n",
       "    <tr>\n",
       "      <th>75%</th>\n",
       "      <td>0.0</td>\n",
       "      <td>0.0</td>\n",
       "    </tr>\n",
       "    <tr>\n",
       "      <th>max</th>\n",
       "      <td>0.0</td>\n",
       "      <td>0.0</td>\n",
       "    </tr>\n",
       "  </tbody>\n",
       "</table>\n",
       "</div>"
      ],
      "text/plain": [
       "       Frontage  Access_Road\n",
       "count    4930.0       4930.0\n",
       "mean        0.0          0.0\n",
       "std         0.0          0.0\n",
       "min         0.0          0.0\n",
       "25%         0.0          0.0\n",
       "50%         0.0          0.0\n",
       "75%         0.0          0.0\n",
       "max         0.0          0.0"
      ]
     },
     "execution_count": 153,
     "metadata": {},
     "output_type": "execute_result"
    }
   ],
   "source": [
    "vietnam_housing_clean[['Frontage','Access_Road']].describe()\n"
   ]
  },
  {
   "cell_type": "code",
   "execution_count": null,
   "id": "2f8e891f",
   "metadata": {},
   "outputs": [],
   "source": []
  },
  {
   "cell_type": "code",
   "execution_count": null,
   "id": "b7207641",
   "metadata": {},
   "outputs": [],
   "source": [
    "# xóa các khoảng trắng thay đinh do bằng gạch dưới\n",
    "vietnam_housing.columns = vietnam_housing.columns.str.replace(' ', '_')"
   ]
  },
  {
   "cell_type": "markdown",
   "id": "281086ae",
   "metadata": {},
   "source": [
    "### PHÂN CỤM DỮ LIỆU"
   ]
  },
  {
   "cell_type": "code",
   "execution_count": null,
   "id": "0515b043",
   "metadata": {},
   "outputs": [],
   "source": [
    "from sklearn.impute import SimpleImputer\n",
    "from sklearn.preprocessing import StandardScaler\n",
    "from sklearn.cluster import KMeans\n",
    "from sklearn.metrics import silhouette_score\n",
    "\n",
    "X = vietnam_housing_clean[['Area','Access_Road','Frontage','Bedrooms','Bathrooms',\n",
    "                     'Price','House_direction_sin','House_direction_cos',\n",
    "                     'Balcony_direction_sin','Balcony_direction_cos',\n",
    "                     'Legal_status','Furniture_state']].copy()\n",
    "\n",
    "# Xử lý NaN cho cột số & phân loại\n",
    "num_cols = ['Area','Access_Road','Frontage','Bedrooms','Bathrooms','Price',\n",
    "            'House_direction_sin','House_direction_cos',\n",
    "            'Balcony_direction_sin','Balcony_direction_cos']\n",
    "cat_cols = ['Legal_status','Furniture_state']\n",
    "\n",
    "X[num_cols] = SimpleImputer(strategy='median').fit_transform(X[num_cols])\n",
    "X[cat_cols] = SimpleImputer(strategy='most_frequent').fit_transform(X[cat_cols])\n",
    "\n",
    "# Scale dữ liệu số\n",
    "X[num_cols] = StandardScaler().fit_transform(X[num_cols])\n"
   ]
  },
  {
   "cell_type": "code",
   "execution_count": null,
   "id": "5b3c3914",
   "metadata": {},
   "outputs": [
    {
     "name": "stdout",
     "output_type": "stream",
     "text": [
      "k=3 | Inertia=132202.42 | Silhouette=0.1417\n",
      "k=4 | Inertia=118626.86 | Silhouette=0.1480\n",
      "k=5 | Inertia=108752.86 | Silhouette=0.1482\n",
      "k=6 | Inertia=100241.77 | Silhouette=0.1558\n",
      "k=7 | Inertia=92970.35 | Silhouette=0.1679\n",
      "k=8 | Inertia=87554.90 | Silhouette=0.1380\n",
      "k=9 | Inertia=80785.33 | Silhouette=0.1807\n"
     ]
    }
   ],
   "source": [
    "# Chạy KMeans\n",
    "km_inertias, km_scores = [], []\n",
    "for k in range(3, 10):\n",
    "    km = KMeans(n_clusters=k, n_init=10, random_state=42).fit(X)\n",
    "    km_inertias.append(km.inertia_)\n",
    "    km_scores.append(silhouette_score(X, km.labels_))\n",
    "    print(f\"k={k} | Inertia={km.inertia_:.2f} | Silhouette={km_scores[-1]:.4f}\")\n"
   ]
  },
  {
   "cell_type": "code",
   "execution_count": null,
   "id": "c0a0ca4a",
   "metadata": {},
   "outputs": [
    {
     "data": {
      "image/png": "[encoded data removed]",
      "text/plain": [
       "<Figure size 640x480 with 1 Axes>"
      ]
     },
     "metadata": {},
     "output_type": "display_data"
    },
    {
     "name": "stdout",
     "output_type": "stream",
     "text": [
      "k = 3, Silhouette Score = 0.176\n",
      "k = 4, Silhouette Score = 0.186\n",
      "k = 5, Silhouette Score = 0.137\n",
      "k = 6, Silhouette Score = 0.161\n",
      "k = 7, Silhouette Score = 0.187\n",
      "k = 8, Silhouette Score = 0.216\n",
      "k = 9, Silhouette Score = 0.179\n"
     ]
    },
    {
     "data": {
      "image/png": "[encoded data removed]",
      "text/plain": [
       "<Figure size 640x480 with 1 Axes>"
      ]
     },
     "metadata": {},
     "output_type": "display_data"
    }
   ],
   "source": [
    "# sns.lineplot(range(3, 10), km_inertias) PHUOCNT\n",
    "sns.lineplot(x=range(3, 10), y=km_inertias)\n",
    "plt.title('elbow graph / inertia depending on k')\n",
    "plt.show()\n",
    "# Bổ sung kiểm tra bằng Silhouette Score\n",
    "from sklearn.metrics import silhouette_score\n",
    "for k in range(3, 10):\n",
    "    km = KMeans(n_clusters=k, random_state=42)\n",
    "    km.fit(X)\n",
    "    score = silhouette_score(X, km.labels_)\n",
    "    print(f\"k = {k}, Silhouette Score = {score:.3f}\")\n",
    "    sns.lineplot(x=range(3, 10), y=km_scores)\n",
    "plt.title('scores depending on k')\n",
    "plt.show()\n"
   ]
  },
  {
   "cell_type": "code",
   "execution_count": null,
   "id": "b925f7dd",
   "metadata": {},
   "outputs": [
    {
     "name": "stdout",
     "output_type": "stream",
     "text": [
      "Cluster nb : 0\n",
      "       Access_Road    Frontage    Bedrooms   Bathrooms       Price  \\\n",
      "count   438.000000  438.000000  438.000000  438.000000  438.000000   \n",
      "mean      0.171700    0.647343   -0.721302   -0.895612   -0.411751   \n",
      "std       0.854458    0.859823    0.726354    0.592920    0.843511   \n",
      "min      -1.159640   -1.832909   -1.593584   -2.024929   -1.968629   \n",
      "25%      -0.509065    0.149507   -1.593584   -1.120649   -1.002439   \n",
      "50%      -0.021133    0.810312   -0.369034   -1.120649   -0.563261   \n",
      "75%       0.629442    0.810312   -0.369034   -0.216370    0.045732   \n",
      "max       3.231744    2.792727    2.080067    0.687910    2.106939   \n",
      "\n",
      "       House_direction_sin  House_direction_cos  Balcony_direction_sin  \\\n",
      "count           438.000000           438.000000             438.000000   \n",
      "mean              0.324632             0.297014               0.312788   \n",
      "std               0.870885             0.631205               0.837080   \n",
      "min              -2.242919            -2.517002              -2.230860   \n",
      "25%              -0.037846             0.595470              -0.046315   \n",
      "50%              -0.037846             0.595470              -0.046315   \n",
      "75%              -0.037846             0.595470              -0.046315   \n",
      "max               2.167227             0.595470               2.138229   \n",
      "\n",
      "       Balcony_direction_cos  Legal_status  Furniture_state  \n",
      "count             438.000000    438.000000       438.000000  \n",
      "mean                0.308949      0.015982         0.566210  \n",
      "std                 0.634760      0.125548         0.496164  \n",
      "min                -2.513225      0.000000         0.000000  \n",
      "25%                 0.600408      0.000000         0.000000  \n",
      "50%                 0.600408      0.000000         1.000000  \n",
      "75%                 0.600408      0.000000         1.000000  \n",
      "max                 0.600408      1.000000         1.000000  \n",
      "\n",
      "\n",
      "\n",
      "Cluster nb : 1\n",
      "       Access_Road    Frontage    Bedrooms   Bathrooms       Price  \\\n",
      "count   541.000000  541.000000  541.000000  541.000000  541.000000   \n",
      "mean      0.667683    0.274290    0.810246    0.881803    0.919822   \n",
      "std       1.084744    0.879443    0.728773    0.830180    0.741084   \n",
      "min      -1.159640   -1.832909   -0.369034   -1.120649   -1.547019   \n",
      "25%      -0.183777   -0.511298    0.855516    0.687910    0.373651   \n",
      "50%       0.466799    0.149507    0.855516    0.687910    0.935798   \n",
      "75%       1.442662    0.810312    0.855516    1.592190    1.540107   \n",
      "max       3.134158    2.792727    2.080067    3.400749    2.247476   \n",
      "\n",
      "       House_direction_sin  House_direction_cos  Balcony_direction_sin  \\\n",
      "count           541.000000           541.000000             541.000000   \n",
      "mean              0.227089             0.350960               0.236343   \n",
      "std               0.777821             0.605123               0.780563   \n",
      "min              -2.242919            -2.517002              -2.230860   \n",
      "25%              -0.037846             0.595470              -0.046315   \n",
      "50%              -0.037846             0.595470              -0.046315   \n",
      "75%              -0.037846             0.595470              -0.046315   \n",
      "max               2.167227             0.595470               2.138229   \n",
      "\n",
      "       Balcony_direction_cos  Legal_status  Furniture_state  \n",
      "count             541.000000    541.000000       541.000000  \n",
      "mean                0.358684      0.020333         0.698706  \n",
      "std                 0.587714      0.141266         0.459245  \n",
      "min                -2.513225      0.000000         0.000000  \n",
      "25%                 0.600408      0.000000         0.000000  \n",
      "50%                 0.600408      0.000000         1.000000  \n",
      "75%                 0.600408      0.000000         1.000000  \n",
      "max                 0.600408      1.000000         1.000000  \n",
      "\n",
      "\n",
      "\n",
      "Cluster nb : 2\n",
      "       Access_Road    Frontage    Bedrooms   Bathrooms       Price  \\\n",
      "count   340.000000  340.000000  340.000000  340.000000  340.000000   \n",
      "mean      0.017567    0.065623   -0.048490   -0.059451   -0.016476   \n",
      "std       0.964463    1.013409    1.063518    1.026420    1.026766   \n",
      "min      -1.159640   -2.493714   -1.593584   -2.024929   -1.945207   \n",
      "25%      -0.834352   -0.511298   -0.369034   -1.120649   -0.797489   \n",
      "50%      -0.183777   -0.246976   -0.369034   -0.216370   -0.094805   \n",
      "75%       0.466799    0.810312    0.855516    0.687910    0.707426   \n",
      "max       3.166687    2.660566    2.080067    2.496469    2.247476   \n",
      "\n",
      "       House_direction_sin  House_direction_cos  Balcony_direction_sin  \\\n",
      "count           340.000000           340.000000             340.000000   \n",
      "mean             -1.172810            -1.697689              -1.177138   \n",
      "std               1.116604             0.787299               1.093201   \n",
      "min              -2.242919            -2.517002              -2.230860   \n",
      "25%              -2.242919            -2.517002              -2.230860   \n",
      "50%              -2.242919            -0.960766              -2.230860   \n",
      "75%              -0.037846            -0.960766              -0.046315   \n",
      "max               2.167227             0.595470              -0.046315   \n",
      "\n",
      "       Balcony_direction_cos  Legal_status  Furniture_state  \n",
      "count             340.000000    340.000000       340.000000  \n",
      "mean               -1.698186      0.014706         0.573529  \n",
      "std                 0.787820      0.120550         0.495293  \n",
      "min                -2.513225      0.000000         0.000000  \n",
      "25%                -2.513225      0.000000         0.000000  \n",
      "50%                -0.956409      0.000000         1.000000  \n",
      "75%                -0.956409      0.000000         1.000000  \n",
      "max                 0.600408      1.000000         1.000000  \n",
      "\n",
      "\n",
      "\n",
      "Cluster nb : 3\n",
      "       Access_Road    Frontage    Bedrooms   Bathrooms       Price  \\\n",
      "count   662.000000  662.000000  662.000000  662.000000  662.000000   \n",
      "mean     -0.668269   -0.686162   -0.160010   -0.097529   -0.470808   \n",
      "std       0.494106    0.732575    0.851638    0.694213    0.714337   \n",
      "min      -1.484928   -2.493714   -1.593584   -2.024929   -1.828093   \n",
      "25%      -0.996996   -1.172104   -0.369034   -0.216370   -1.031717   \n",
      "50%      -0.834352   -0.511298   -0.369034   -0.216370   -0.516416   \n",
      "75%      -0.509065   -0.511298    0.855516    0.687910   -0.003456   \n",
      "max       3.069101    2.131922    2.080067    1.592190    2.200630   \n",
      "\n",
      "       House_direction_sin  House_direction_cos  Balcony_direction_sin  \\\n",
      "count           662.000000           662.000000             662.000000   \n",
      "mean              0.201981             0.388599               0.204478   \n",
      "std               0.708135             0.568801               0.746929   \n",
      "min              -2.242919            -2.517002              -2.230860   \n",
      "25%              -0.037846             0.595470              -0.046315   \n",
      "50%              -0.037846             0.595470              -0.046315   \n",
      "75%              -0.037846             0.595470              -0.046315   \n",
      "max               2.167227             0.595470               2.138229   \n",
      "\n",
      "       Balcony_direction_cos  Legal_status  Furniture_state  \n",
      "count             662.000000    662.000000       662.000000  \n",
      "mean                0.374646      0.004532         0.551360  \n",
      "std                 0.581053      0.067216         0.497731  \n",
      "min                -2.513225      0.000000         0.000000  \n",
      "25%                 0.600408      0.000000         0.000000  \n",
      "50%                 0.600408      0.000000         1.000000  \n",
      "75%                 0.600408      0.000000         1.000000  \n",
      "max                 0.600408      1.000000         1.000000  \n",
      "\n",
      "\n",
      "\n"
     ]
    }
   ],
   "source": [
    "# Gán nhãn cho các mẫu dữ liệu dựa vào mô hình K-Means với số cụm là 5 và 6\n",
    "km = KMeans(n_clusters=4).fit(X)\n",
    "#Assign the Cluster Labels to the Data\n",
    "X['Label'] = km.labels_\n",
    "clusters = km.labels_\n",
    "#Info for each cluster\n",
    "for k in range(4):\n",
    " print(f'Cluster nb : {k}')\n",
    " print(X[X.Label == k].describe().iloc[:, 1:-1])\n",
    " print('\\n\\n')\n",
    " "
   ]
  },
  {
   "cell_type": "code",
   "execution_count": null,
   "id": "d1befd9e",
   "metadata": {},
   "outputs": [
    {
     "name": "stdout",
     "output_type": "stream",
     "text": [
      "Cluster nb : 0\n",
      "       Access_Road    Frontage    Bedrooms   Bathrooms       Price  \\\n",
      "count   216.000000  216.000000  216.000000  216.000000  216.000000   \n",
      "mean      0.023745    0.007250   -0.034550    0.009700   -0.043297   \n",
      "std       1.074054    0.957588    1.032616    0.983847    0.974163   \n",
      "min      -1.224698   -2.361553   -1.593584   -2.024929   -1.757824   \n",
      "25%      -0.834352   -0.511298   -0.369034   -1.120649   -0.750644   \n",
      "50%      -0.183777   -0.246976   -0.369034   -0.216370   -0.153362   \n",
      "75%       0.466799    0.810312    0.855516    0.687910    0.631302   \n",
      "max       3.134158    2.792727    2.080067    3.400749    2.247476   \n",
      "\n",
      "       House_direction_sin  House_direction_cos  Balcony_direction_sin  \\\n",
      "count           216.000000           216.000000             216.000000   \n",
      "mean              2.146810            -0.975175               2.097774   \n",
      "std               0.211689             0.149400               0.295198   \n",
      "min              -0.037846            -2.517002              -0.046315   \n",
      "25%               2.167227            -0.960766               2.138229   \n",
      "50%               2.167227            -0.960766               2.138229   \n",
      "75%               2.167227            -0.960766               2.138229   \n",
      "max               2.167227            -0.960766               2.138229   \n",
      "\n",
      "       Balcony_direction_cos  Legal_status  Furniture_state  \n",
      "count             216.000000    216.000000       216.000000  \n",
      "mean               -0.985239      0.027778         0.625000  \n",
      "std                 0.210373      0.164717         0.485247  \n",
      "min                -2.513225      0.000000         0.000000  \n",
      "25%                -0.956409      0.000000         0.000000  \n",
      "50%                -0.956409      0.000000         1.000000  \n",
      "75%                -0.956409      0.000000         1.000000  \n",
      "max                -0.956409      1.000000         1.000000  \n",
      "\n",
      "\n",
      "\n",
      "Cluster nb : 1\n",
      "       Access_Road    Frontage    Bedrooms   Bathrooms       Price  \\\n",
      "count   366.000000  366.000000  366.000000  366.000000  366.000000   \n",
      "mean      0.197547    0.675876   -0.700265   -0.910639   -0.388780   \n",
      "std       0.840544    0.860692    0.731427    0.593560    0.846857   \n",
      "min      -1.159640   -1.832909   -1.593584   -2.024929   -1.968629   \n",
      "25%      -0.509065    0.149507   -1.593584   -1.120649   -0.938026   \n",
      "50%       0.060189    0.810312   -0.369034   -1.120649   -0.563261   \n",
      "75%       0.629442    0.810312   -0.369034   -0.216370    0.089064   \n",
      "max       3.231744    2.792727    2.080067    0.687910    2.106939   \n",
      "\n",
      "       House_direction_sin  House_direction_cos  Balcony_direction_sin  \\\n",
      "count           366.000000           366.000000             366.000000   \n",
      "mean             -0.031821             0.548698              -0.034378   \n",
      "std               0.346204             0.289939               0.279830   \n",
      "min              -2.242919            -2.517002              -2.230860   \n",
      "25%              -0.037846             0.595470              -0.046315   \n",
      "50%              -0.037846             0.595470              -0.046315   \n",
      "75%              -0.037846             0.595470              -0.046315   \n",
      "max               2.167227             0.595470               2.138229   \n",
      "\n",
      "       Balcony_direction_cos  Legal_status  Furniture_state  \n",
      "count             366.000000    366.000000       366.000000  \n",
      "mean                0.566379      0.013661         0.568306  \n",
      "std                 0.255423      0.116239         0.495990  \n",
      "min                -2.513225      0.000000         0.000000  \n",
      "25%                 0.600408      0.000000         0.000000  \n",
      "50%                 0.600408      0.000000         1.000000  \n",
      "75%                 0.600408      0.000000         1.000000  \n",
      "max                 0.600408      1.000000         1.000000  \n",
      "\n",
      "\n",
      "\n",
      "Cluster nb : 2\n",
      "       Access_Road    Frontage    Bedrooms   Bathrooms       Price  \\\n",
      "count   589.000000  589.000000  589.000000  589.000000  589.000000   \n",
      "mean     -0.674636   -0.690108   -0.150736   -0.110436   -0.476943   \n",
      "std       0.473699    0.727533    0.863354    0.698580    0.726402   \n",
      "min      -1.484928   -2.493714   -1.593584   -2.024929   -1.828093   \n",
      "25%      -0.996996   -1.172104   -0.369034   -0.216370   -1.055140   \n",
      "50%      -0.834352   -0.511298   -0.369034   -0.216370   -0.516416   \n",
      "75%      -0.509065   -0.511298    0.855516    0.687910   -0.010483   \n",
      "max       3.069101    2.131922    2.080067    1.592190    2.200630   \n",
      "\n",
      "       House_direction_sin  House_direction_cos  Balcony_direction_sin  \\\n",
      "count           589.000000           589.000000             589.000000   \n",
      "mean             -0.041590             0.555838              -0.035189   \n",
      "std               0.157461             0.331112               0.324630   \n",
      "min              -2.242919            -2.517002              -2.230860   \n",
      "25%              -0.037846             0.595470              -0.046315   \n",
      "50%              -0.037846             0.595470              -0.046315   \n",
      "75%              -0.037846             0.595470              -0.046315   \n",
      "max               2.167227             0.595470               2.138229   \n",
      "\n",
      "       Balcony_direction_cos  Legal_status  Furniture_state  \n",
      "count             589.000000    589.000000       589.000000  \n",
      "mean                0.539615      0.005093         0.534805  \n",
      "std                 0.363759      0.071246         0.499211  \n",
      "min                -2.513225      0.000000         0.000000  \n",
      "25%                 0.600408      0.000000         0.000000  \n",
      "50%                 0.600408      0.000000         1.000000  \n",
      "75%                 0.600408      0.000000         1.000000  \n",
      "max                 0.600408      1.000000         1.000000  \n",
      "\n",
      "\n",
      "\n",
      "Cluster nb : 3\n",
      "       Access_Road    Frontage    Bedrooms   Bathrooms       Price  \\\n",
      "count   339.000000  339.000000  339.000000  339.000000  339.000000   \n",
      "mean      0.018161    0.067325   -0.051157   -0.058988   -0.016936   \n",
      "std       0.965826    1.014420    1.063951    1.027902    1.028248   \n",
      "min      -1.159640   -2.493714   -1.593584   -2.024929   -1.945207   \n",
      "25%      -0.834352   -0.511298   -0.369034   -1.120649   -0.797489   \n",
      "50%      -0.183777   -0.246976   -0.369034   -0.216370   -0.094805   \n",
      "75%       0.466799    0.810312    0.855516    0.687910    0.713282   \n",
      "max       3.166687    2.660566    2.080067    2.496469    2.247476   \n",
      "\n",
      "       House_direction_sin  House_direction_cos  Balcony_direction_sin  \\\n",
      "count           339.000000           339.000000             339.000000   \n",
      "mean             -1.182662            -1.699863              -1.180474   \n",
      "std               1.103354             0.787441               1.093082   \n",
      "min              -2.242919            -2.517002              -2.230860   \n",
      "25%              -2.242919            -2.517002              -2.230860   \n",
      "50%              -2.242919            -0.960766              -2.230860   \n",
      "75%              -0.037846            -0.960766              -0.046315   \n",
      "max              -0.037846             0.595470              -0.046315   \n",
      "\n",
      "       Balcony_direction_cos  Legal_status  Furniture_state  \n",
      "count             339.000000    339.000000       339.000000  \n",
      "mean               -1.695782      0.014749         0.572271  \n",
      "std                 0.787734      0.120726         0.495481  \n",
      "min                -2.513225      0.000000         0.000000  \n",
      "25%                -2.513225      0.000000         0.000000  \n",
      "50%                -0.956409      0.000000         1.000000  \n",
      "75%                -0.956409      0.000000         1.000000  \n",
      "max                 0.600408      1.000000         1.000000  \n",
      "\n",
      "\n",
      "\n",
      "Cluster nb : 4\n",
      "       Access_Road    Frontage    Bedrooms   Bathrooms       Price  \\\n",
      "count   471.000000  471.000000  471.000000  471.000000  471.000000   \n",
      "mean      0.666184    0.286017    0.785319    0.883741    0.930587   \n",
      "std       1.068150    0.883214    0.730926    0.825748    0.729155   \n",
      "min      -1.159640   -1.832909   -0.369034   -1.120649   -1.031717   \n",
      "25%      -0.183777   -0.511298    0.855516    0.687910    0.420497   \n",
      "50%       0.466799    0.149507    0.855516    0.687910    0.935798   \n",
      "75%       1.442662    0.810312    0.855516    1.592190    1.497946   \n",
      "max       3.069101    2.792727    2.080067    3.400749    2.247476   \n",
      "\n",
      "       House_direction_sin  House_direction_cos  Balcony_direction_sin  \\\n",
      "count           471.000000           471.000000             471.000000   \n",
      "mean             -0.056573             0.549213              -0.041677   \n",
      "std               0.248437             0.333496               0.302261   \n",
      "min              -2.242919            -2.517002              -2.230860   \n",
      "25%              -0.037846             0.595470              -0.046315   \n",
      "50%              -0.037846             0.595470              -0.046315   \n",
      "75%              -0.037846             0.595470              -0.046315   \n",
      "max               2.167227             0.595470               2.138229   \n",
      "\n",
      "       Balcony_direction_cos  Legal_status  Furniture_state  \n",
      "count             471.000000    471.000000       471.000000  \n",
      "mean                0.557438      0.014862         0.709130  \n",
      "std                 0.292941      0.121129         0.454647  \n",
      "min                -2.513225      0.000000         0.000000  \n",
      "25%                 0.600408      0.000000         0.000000  \n",
      "50%                 0.600408      0.000000         1.000000  \n",
      "75%                 0.600408      0.000000         1.000000  \n",
      "max                 0.600408      1.000000         1.000000  \n",
      "\n",
      "\n",
      "\n"
     ]
    }
   ],
   "source": [
    "# Gán nhãn cho các mẫu dữ liệu dựa vào mô hình K-Means với số cụm là 5 và 6\n",
    "km = KMeans(n_clusters=5).fit(X)\n",
    "#Assign the Cluster Labels to the Data\n",
    "X['Label'] = km.labels_\n",
    "clusters = km.labels_\n",
    "#Info for each cluster\n",
    "for k in range(5):\n",
    " print(f'Cluster nb : {k}')\n",
    " print(X[X.Label == k].describe().iloc[:, 1:-1])\n",
    " print('\\n\\n')"
   ]
  },
  {
   "cell_type": "code",
   "execution_count": null,
   "id": "7cfaa9cb",
   "metadata": {},
   "outputs": [
    {
     "name": "stdout",
     "output_type": "stream",
     "text": [
      "KMeans n_clusters: 5\n",
      "Shape of X_scaled: (1981, 13)\n",
      "Unique cluster labels: [0 1 2 3 4]\n",
      "Number of duplicates: 0\n"
     ]
    }
   ],
   "source": [
    "print(\"KMeans n_clusters:\", km.n_clusters)\n",
    "print(\"Shape of X_scaled:\", X.shape)\n",
    "print(\"Unique cluster labels:\", np.unique(X['Label']))\n",
    "print(\"Number of duplicates:\", vietnam_housing.duplicated().sum())\n"
   ]
  },
  {
   "cell_type": "code",
   "execution_count": null,
   "id": "c6c07198",
   "metadata": {},
   "outputs": [
    {
     "data": {
      "application/vnd.plotly.v1+json": {
       "config": {
        "plotlyServerURL": "https://plot.ly"
       },
       "data": [
        {
         "marker": {
          "color": "#DB4CB2"
         },
         "mode": "markers",
         "name": "Cluster 0",
         "type": "scatter",
         "x": {
          "bdata": "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",
          "dtype": "f8"
         },
         "y": {
          "bdata": "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",
          "dtype": "f8"
         }
        },
        {
         "marker": {
          "color": "#c9e9f6"
         },
         "mode": "markers",
         "name": "Cluster 1",
         "type": "scatter",
         "x": {
          "bdata": "oQ1Xhq4fzr8Iw6/OAiH2v+RGiZD+heO/oQ1Xhq4fzr+7ev2PrI3cv2FEX1GrOPE/tGfo/lsP0r/xqQPknGHyv+RGiZD+heO/DXSN5yNq1j8bf3i/30Xkv2okDvi+c+M/VLdn7sAF5b8n5odvyHLpP2opYnZlDti/t3WpEQbz5z9iZuw8TdHsv4I5JYba4fC/kEiluuAO1b+COSWG2uHwv4I5JYba4fC/XmXOc3Ln9b8mko1QMMTuvySKY5ebIcK/+l81e2RF57+fA6+JYerUP7pxFLW7ofG/f+m/w4yE7L8mko1QMMTuv04KHzLqDdu/TDgxnoC2/j+Ndrcmd7f4P/V3InuYP1K/CO0s3k548z/ZkNM/JEW4v6OPYxHddvw/YURfUas48T/75pWEOTf6PxBHmURoq+m/RAB3NZ3YwT+KfoI4jbn8vw1Ge3uNwfK/0IrAnyFh9b/WDYxMrAHyv2Ea4kFf4fO/Xh53nqky6j9OshNwGmvQPwjtLN5OePM/ntWcHctB8b+QSKW64A7Vv6sOmmEdxuK/gjklhtrh8L/K7lDi5RP4v2okDvi+c+M/G394v99F5L+8IvLN3OrRP+EH/cxL0/u/wYNqJLDWzT/kRomQ/oXjvzUfhbMa9/o/8akD5Jxh8r+2Ia/ybUTtv9mQ0z8kRbi/T5F/O7///b/sJjg3EsH1v/64gxijjta/e+RrRebp1z9dynx/EYTvv2opYnZlDti/VcUoAWvp2j/lFEFvnCziv8s1B18tadw/5aKtaCvXyj/Be0BrGzThP7Yhr/JtRO2/JIpjl5shwr8bffp7J7O3P1Qt7/j6TPu/VRRL6Emg+r8gBtnItDf3P6sOmmEdxuK/7VmeIU8E7r8jz1nIGkayv0gzfnhbe/G/tGfo/lsP0r+2Ia/ybUTtvzCYJKpFBei/kVJNty1Evr/8wfCsptfHP7wi8s3c6tE/d10LPBH49D/pS90OpSDIvwZmzNR5huC/o2XmAZEf/785eNNQWUD6v+lL3Q6lIMi/n7z4DBqV8L8kimOXmyHCv7wi8s3c6tE/qw6aYR3G4r/kRomQ/oXjv13fNFYs2JY/PZ67A1tG4b9AJRwNMDj0P+WjbIqHIPm/e+RrRebp1z/BJ0ZMg4Xmv7wi8s3c6tE/TgofMuoN27/pS90OpSDIv2adre7pgfC/tiGv8m1E7b8jXydm84D2v6AIAwgIhem/9YO8iRy7wr+rDpphHcbiv0+Rfzu///2/kVJNty1Evr/jdzcJKKu6v/WDvIkcu8K/QCUcDTA49D+6cRS1u6Hxv1S3Z+7ABeW/kEiluuAO1b9p0BPZJsXov0ax0JSrxOu/Wy6ZZR8gmb+gCAMICIXpv0ax0JSrxOu/kEiluuAO1b8CQOQheID5v6josa4bwPu/OKblvO/o3T/+uIMYo47Wv04KHzLqDdu/5EaJkP6F47/Bg2oksNbNP41MOhcrYPu/MJgkqkUF6L9/6b/DjITsv0D7nv3j4Pa/l1u6SzGN379OCh8y6g3bvwJA5CF4gPm/VRRL6Emg+r9OCh8y6g3bvynr2+1uDd6/6UvdDqUgyL9hRF9RqzjxPzeqG3K7mfu/u3r9j6yN3L9qJA74vnPjP5hS0XBAofS/8CdWAO2q7L/apcVUHJ7RP3TWqjI8BuK/I18nZvOA9r83qhtyu5n7v0Zlxpm91PK/2ZDTPyRFuL/wJ1YA7arsv+RGiZD+heO/oQ1Xhq4fzr/1dyJ7mD9Sv7wi8s3c6tE/kEiluuAO1b8Iw6/OAiH2v58Dr4lh6tQ/N6obcruZ+7/lzemZ03f2P4ghnz4EH+e/HfMNGilqpz/kRomQ/oXjvwtoCGcvWt6/L4dLq6pa278d8w0aKWqnP+1ZniFPBO6/oQ1Xhq4fzr+e1Zwdy0HxvxB54WXKBOu/DUZ7e43B8r+ZnttrLpHtv1S3Z+7ABeW/wYNqJLDWzT+QSKW64A7Vv61rfVumYPi/gD264iQz5z9blxaV1ED3vwjDr84CIfa/2ZDTPyRFuL8I7SzeTnjzP5FSTbctRL6/OKblvO/o3T/gmUDUJ47Zvyni8hJ+IfO/kEiluuAO1b/BJ0ZMg4Xmv+lL3Q6lIMi/kEiluuAO1b+UDPesAtsAQGEa4kFf4fO/2ZDTPyRFuL+gCAMICIXpv+WjbIqHIPm/SDN+eFt78b9qJA74vnPjP+RGiZD+heO/o49jEd12/D+rDpphHcbivzCYJKpFBei/8akD5Jxh8r+XW7pLMY3fvzl401BZQPq/7Q2UJmEU9b9hGuJBX+Hzv4rvVh2ixeW/rpX6avK39T/gmUDUJ47Zv9YNjEysAfK/AkDkIXiA+b+COSWG2uHwv2opYnZlDti/tiGv8m1E7b9VFEvoSaD6v9E+dPMwsr0/2ZDTPyRFuL9A+5794+D2v7pxFLW7ofG/oAgDCAiF6b9LATZX+SHwv4rvVh2ixeW/VcUoAWvp2j/WDYxMrAHyv7Rn6P5bD9K/1xrAoSKOqL9UhR/NXqzjv1S3Z+7ABeW//vukOKCS5L+YUtFwQKH0v5LPBcS1APi/oAgDCAiF6b/WDYxMrAHyv1Omju8lW9i/G394v99F5L9GsdCUq8Trv4rvVh2ixeW/wYNqJLDWzT+COSWG2uHwv8EnRkyDhea/5EaJkP6F47+YfE6AjPjxP0ax0JSrxOu/4JlA1CeO2b9MODGegLb+P1S3Z+7ABeW/jXa3Jne3+D975GtF5unXP/vmlYQ5N/o/d10LPBH49D9FfmqqboHzv0ax0JSrxOu/7VmeIU8E7r8Dx0QrTXLsP2FEX1GrOPE/wXtAaxs04T+QSKW64A7Vv5BIpbrgDtW/vwFemYF//79qJA74vnPjP412tyZ3t/g/t3WpEQbz5z9p0BPZJsXov26i5M0hGrQ/Kevb7W4N3r8p69vtbg3ev7TuSAgxAfW/oFz9JqAz5D+At3eiKivrv6OPYxHddvw/aiQO+L5z4z+0Z+j+Ww/Sv3/pv8OMhOy/HfMNGilqpz+xqgkfWRPgv6AIAwgIhem/+l81e2RF578PayBTICHFv5VWZs2K8uo/VLdn7sAF5b91NyOJD/LtPzl401BZQPq/VIUfzV6s479GsdCUq8Trv3vka0Xm6dc/VLdn7sAF5b/xqQPknGHyv2nQE9kmxei/G394v99F5L9OCh8y6g3bv4rvVh2ixeW/g4UvgcjR6b+rDpphHcbiv9mQ0z8kRbi/5EaJkP6F47/ZkNM/JEW4vztGiy/35vi/lVZmzYry6j8NRnt7jcHyv7Rn6P5bD9K/TrITcBpr0D+gCAMICIXpv7Yhr/JtRO2/PZ67A1tG4b+j1rrmpSvov4rvVh2ixeW/oAgDCAiF6b8bf3i/30Xkvz2euwNbRuG/++aVhDk3+j9AJRwNMDj0PxB54WXKBOu/kEiluuAO1b8n5odvyHLpP2FEX1GrOPE/G394v99F5L+fA6+JYerUP3/pv8OMhOy/9YO8iRy7wr8p69vtbg3ev61rfVumYPi/dNaqMjwG4r+j1rrmpSvov58Dr4lh6tQ/7CY4NxLB9b/WDYxMrAHyv2Ea4kFf4fO/aiQO+L5z4z/Bg2oksNbNP13UB34hGwBADUZ7e43B8r86Xy9AqJP5v5FSTbctRL6/e+RrRebp1z8mko1QMMTuv83VrNE0Z/e/ailidmUO2L9qKWJ2ZQ7Yv1fiAsfnRvm/ailidmUO2L+8IvLN3OrRP/pfNXtkRee/xPX9KiEs5b/nVEqjqGnZP7d1qREG8+c/aiQO+L5z4z/K7lDi5RP4vyaSjVAwxO6/kEiluuAO1b/Bg2oksNbNP04KHzLqDdu/I18nZvOA9r9Ut2fuwAXlv2okDvi+c+M/t3WpEQbz5z/8wfCsptfHPxt/eL/fReS/",
          "dtype": "f8"
         },
         "y": {
          "bdata": "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",
          "dtype": "f8"
         }
        },
        {
         "marker": {
          "color": "#7D3AC1"
         },
         "mode": "markers",
         "name": "Cluster 2",
         "type": "scatter",
         "x": {
          "bdata": "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",
          "dtype": "f8"
         },
         "y": {
          "bdata": "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",
          "dtype": "f8"
         }
        },
        {
         "marker": {
          "color": "#CAC9CD",
          "size": 12,
          "symbol": "x"
         },
         "mode": "markers",
         "name": "Centroids",
         "type": "scatter",
         "x": {
          "bdata": "5Aj/kPYqpr94LWdKx+HYv8Cy3cE6ht6/M48SiL5Xkb9bysnPXcftPw==",
          "dtype": "f8"
         },
         "y": {
          "bdata": "LL+6a6jdgz9PI1q69CPtv/P2KU2ARby/FFPTsaUzrr9+txp/m0fsPw==",
          "dtype": "f8"
         }
        }
       ],
       "layout": {
        "template": {
         "data": {
          "bar": [
           {
            "error_x": {
             "color": "#2a3f5f"
            },
            "error_y": {
             "color": "#2a3f5f"
            },
            "marker": {
             "line": {
              "color": "#E5ECF6",
              "width": 0.5
             },
             "pattern": {
              "fillmode": "overlay",
              "size": 10,
              "solidity": 0.2
             }
            },
            "type": "bar"
           }
          ],
          "barpolar": [
           {
            "marker": {
             "line": {
              "color": "#E5ECF6",
              "width": 0.5
             },
             "pattern": {
              "fillmode": "overlay",
              "size": 10,
              "solidity": 0.2
             }
            },
            "type": "barpolar"
           }
          ],
          "carpet": [
           {
            "aaxis": {
             "endlinecolor": "#2a3f5f",
             "gridcolor": "white",
             "linecolor": "white",
             "minorgridcolor": "white",
             "startlinecolor": "#2a3f5f"
            },
            "baxis": {
             "endlinecolor": "#2a3f5f",
             "gridcolor": "white",
             "linecolor": "white",
             "minorgridcolor": "white",
             "startlinecolor": "#2a3f5f"
            },
            "type": "carpet"
           }
          ],
          "choropleth": [
           {
            "colorbar": {
             "outlinewidth": 0,
             "ticks": ""
            },
            "type": "choropleth"
           }
          ],
          "contour": [
           {
            "colorbar": {
             "outlinewidth": 0,
             "ticks": ""
            },
            "colorscale": [
             [
              0,
              "#0d0887"
             ],
             [
              0.1111111111111111,
              "#46039f"
             ],
             [
              0.2222222222222222,
              "#7201a8"
             ],
             [
              0.3333333333333333,
              "#9c179e"
             ],
             [
              0.4444444444444444,
              "#bd3786"
             ],
             [
              0.5555555555555556,
              "#d8576b"
             ],
             [
              0.6666666666666666,
              "#ed7953"
             ],
             [
              0.7777777777777778,
              "#fb9f3a"
             ],
             [
              0.8888888888888888,
              "#fdca26"
             ],
             [
              1,
              "#f0f921"
             ]
            ],
            "type": "contour"
           }
          ],
          "contourcarpet": [
           {
            "colorbar": {
             "outlinewidth": 0,
             "ticks": ""
            },
            "type": "contourcarpet"
           }
          ],
          "heatmap": [
           {
            "colorbar": {
             "outlinewidth": 0,
             "ticks": ""
            },
            "colorscale": [
             [
              0,
              "#0d0887"
             ],
             [
              0.1111111111111111,
              "#46039f"
             ],
             [
              0.2222222222222222,
              "#7201a8"
             ],
             [
              0.3333333333333333,
              "#9c179e"
             ],
             [
              0.4444444444444444,
              "#bd3786"
             ],
             [
              0.5555555555555556,
              "#d8576b"
             ],
             [
              0.6666666666666666,
              "#ed7953"
             ],
             [
              0.7777777777777778,
              "#fb9f3a"
             ],
             [
              0.8888888888888888,
              "#fdca26"
             ],
             [
              1,
              "#f0f921"
             ]
            ],
            "type": "heatmap"
           }
          ],
          "histogram": [
           {
            "marker": {
             "pattern": {
              "fillmode": "overlay",
              "size": 10,
              "solidity": 0.2
             }
            },
            "type": "histogram"
           }
          ],
          "histogram2d": [
           {
            "colorbar": {
             "outlinewidth": 0,
             "ticks": ""
            },
            "colorscale": [
             [
              0,
              "#0d0887"
             ],
             [
              0.1111111111111111,
              "#46039f"
             ],
             [
              0.2222222222222222,
              "#7201a8"
             ],
             [
              0.3333333333333333,
              "#9c179e"
             ],
             [
              0.4444444444444444,
              "#bd3786"
             ],
             [
              0.5555555555555556,
              "#d8576b"
             ],
             [
              0.6666666666666666,
              "#ed7953"
             ],
             [
              0.7777777777777778,
              "#fb9f3a"
             ],
             [
              0.8888888888888888,
              "#fdca26"
             ],
             [
              1,
              "#f0f921"
             ]
            ],
            "type": "histogram2d"
           }
          ],
          "histogram2dcontour": [
           {
            "colorbar": {
             "outlinewidth": 0,
             "ticks": ""
            },
            "colorscale": [
             [
              0,
              "#0d0887"
             ],
             [
              0.1111111111111111,
              "#46039f"
             ],
             [
              0.2222222222222222,
              "#7201a8"
             ],
             [
              0.3333333333333333,
              "#9c179e"
             ],
             [
              0.4444444444444444,
              "#bd3786"
             ],
             [
              0.5555555555555556,
              "#d8576b"
             ],
             [
              0.6666666666666666,
              "#ed7953"
             ],
             [
              0.7777777777777778,
              "#fb9f3a"
             ],
             [
              0.8888888888888888,
              "#fdca26"
             ],
             [
              1,
              "#f0f921"
             ]
            ],
            "type": "histogram2dcontour"
           }
          ],
          "mesh3d": [
           {
            "colorbar": {
             "outlinewidth": 0,
             "ticks": ""
            },
            "type": "mesh3d"
           }
          ],
          "parcoords": [
           {
            "line": {
             "colorbar": {
              "outlinewidth": 0,
              "ticks": ""
             }
            },
            "type": "parcoords"
           }
          ],
          "pie": [
           {
            "automargin": true,
            "type": "pie"
           }
          ],
          "scatter": [
           {
            "fillpattern": {
             "fillmode": "overlay",
             "size": 10,
             "solidity": 0.2
            },
            "type": "scatter"
           }
          ],
          "scatter3d": [
           {
            "line": {
             "colorbar": {
              "outlinewidth": 0,
              "ticks": ""
             }
            },
            "marker": {
             "colorbar": {
              "outlinewidth": 0,
              "ticks": ""
             }
            },
            "type": "scatter3d"
           }
          ],
          "scattercarpet": [
           {
            "marker": {
             "colorbar": {
              "outlinewidth": 0,
              "ticks": ""
             }
            },
            "type": "scattercarpet"
           }
          ],
          "scattergeo": [
           {
            "marker": {
             "colorbar": {
              "outlinewidth": 0,
              "ticks": ""
             }
            },
            "type": "scattergeo"
           }
          ],
          "scattergl": [
           {
            "marker": {
             "colorbar": {
              "outlinewidth": 0,
              "ticks": ""
             }
            },
            "type": "scattergl"
           }
          ],
          "scattermap": [
           {
            "marker": {
             "colorbar": {
              "outlinewidth": 0,
              "ticks": ""
             }
            },
            "type": "scattermap"
           }
          ],
          "scattermapbox": [
           {
            "marker": {
             "colorbar": {
              "outlinewidth": 0,
              "ticks": ""
             }
            },
            "type": "scattermapbox"
           }
          ],
          "scatterpolar": [
           {
            "marker": {
             "colorbar": {
              "outlinewidth": 0,
              "ticks": ""
             }
            },
            "type": "scatterpolar"
           }
          ],
          "scatterpolargl": [
           {
            "marker": {
             "colorbar": {
              "outlinewidth": 0,
              "ticks": ""
             }
            },
            "type": "scatterpolargl"
           }
          ],
          "scatterternary": [
           {
            "marker": {
             "colorbar": {
              "outlinewidth": 0,
              "ticks": ""
             }
            },
            "type": "scatterternary"
           }
          ],
          "surface": [
           {
            "colorbar": {
             "outlinewidth": 0,
             "ticks": ""
            },
            "colorscale": [
             [
              0,
              "#0d0887"
             ],
             [
              0.1111111111111111,
              "#46039f"
             ],
             [
              0.2222222222222222,
              "#7201a8"
             ],
             [
              0.3333333333333333,
              "#9c179e"
             ],
             [
              0.4444444444444444,
              "#bd3786"
             ],
             [
              0.5555555555555556,
              "#d8576b"
             ],
             [
              0.6666666666666666,
              "#ed7953"
             ],
             [
              0.7777777777777778,
              "#fb9f3a"
             ],
             [
              0.8888888888888888,
              "#fdca26"
             ],
             [
              1,
              "#f0f921"
             ]
            ],
            "type": "surface"
           }
          ],
          "table": [
           {
            "cells": {
             "fill": {
              "color": "#EBF0F8"
             },
             "line": {
              "color": "white"
             }
            },
            "header": {
             "fill": {
              "color": "#C8D4E3"
             },
             "line": {
              "color": "white"
             }
            },
            "type": "table"
           }
          ]
         },
         "layout": {
          "annotationdefaults": {
           "arrowcolor": "#2a3f5f",
           "arrowhead": 0,
           "arrowwidth": 1
          },
          "autotypenumbers": "strict",
          "coloraxis": {
           "colorbar": {
            "outlinewidth": 0,
            "ticks": ""
           }
          },
          "colorscale": {
           "diverging": [
            [
             0,
             "#8e0152"
            ],
            [
             0.1,
             "#c51b7d"
            ],
            [
             0.2,
             "#de77ae"
            ],
            [
             0.3,
             "#f1b6da"
            ],
            [
             0.4,
             "#fde0ef"
            ],
            [
             0.5,
             "#f7f7f7"
            ],
            [
             0.6,
             "#e6f5d0"
            ],
            [
             0.7,
             "#b8e186"
            ],
            [
             0.8,
             "#7fbc41"
            ],
            [
             0.9,
             "#4d9221"
            ],
            [
             1,
             "#276419"
            ]
           ],
           "sequential": [
            [
             0,
             "#0d0887"
            ],
            [
             0.1111111111111111,
             "#46039f"
            ],
            [
             0.2222222222222222,
             "#7201a8"
            ],
            [
             0.3333333333333333,
             "#9c179e"
            ],
            [
             0.4444444444444444,
             "#bd3786"
            ],
            [
             0.5555555555555556,
             "#d8576b"
            ],
            [
             0.6666666666666666,
             "#ed7953"
            ],
            [
             0.7777777777777778,
             "#fb9f3a"
            ],
            [
             0.8888888888888888,
             "#fdca26"
            ],
            [
             1,
             "#f0f921"
            ]
           ],
           "sequentialminus": [
            [
             0,
             "#0d0887"
            ],
            [
             0.1111111111111111,
             "#46039f"
            ],
            [
             0.2222222222222222,
             "#7201a8"
            ],
            [
             0.3333333333333333,
             "#9c179e"
            ],
            [
             0.4444444444444444,
             "#bd3786"
            ],
            [
             0.5555555555555556,
             "#d8576b"
            ],
            [
             0.6666666666666666,
             "#ed7953"
            ],
            [
             0.7777777777777778,
             "#fb9f3a"
            ],
            [
             0.8888888888888888,
             "#fdca26"
            ],
            [
             1,
             "#f0f921"
            ]
           ]
          },
          "colorway": [
           "#636efa",
           "#EF553B",
           "#00cc96",
           "#ab63fa",
           "#FFA15A",
           "#19d3f3",
           "#FF6692",
           "#B6E880",
           "#FF97FF",
           "#FECB52"
          ],
          "font": {
           "color": "#2a3f5f"
          },
          "geo": {
           "bgcolor": "white",
           "lakecolor": "white",
           "landcolor": "#E5ECF6",
           "showlakes": true,
           "showland": true,
           "subunitcolor": "white"
          },
          "hoverlabel": {
           "align": "left"
          },
          "hovermode": "closest",
          "mapbox": {
           "style": "light"
          },
          "paper_bgcolor": "white",
          "plot_bgcolor": "#E5ECF6",
          "polar": {
           "angularaxis": {
            "gridcolor": "white",
            "linecolor": "white",
            "ticks": ""
           },
           "bgcolor": "#E5ECF6",
           "radialaxis": {
            "gridcolor": "white",
            "linecolor": "white",
            "ticks": ""
           }
          },
          "scene": {
           "xaxis": {
            "backgroundcolor": "#E5ECF6",
            "gridcolor": "white",
            "gridwidth": 2,
            "linecolor": "white",
            "showbackground": true,
            "ticks": "",
            "zerolinecolor": "white"
           },
           "yaxis": {
            "backgroundcolor": "#E5ECF6",
            "gridcolor": "white",
            "gridwidth": 2,
            "linecolor": "white",
            "showbackground": true,
            "ticks": "",
            "zerolinecolor": "white"
           },
           "zaxis": {
            "backgroundcolor": "#E5ECF6",
            "gridcolor": "white",
            "gridwidth": 2,
            "linecolor": "white",
            "showbackground": true,
            "ticks": "",
            "zerolinecolor": "white"
           }
          },
          "shapedefaults": {
           "line": {
            "color": "#2a3f5f"
           }
          },
          "ternary": {
           "aaxis": {
            "gridcolor": "white",
            "linecolor": "white",
            "ticks": ""
           },
           "baxis": {
            "gridcolor": "white",
            "linecolor": "white",
            "ticks": ""
           },
           "bgcolor": "#E5ECF6",
           "caxis": {
            "gridcolor": "white",
            "linecolor": "white",
            "ticks": ""
           }
          },
          "title": {
           "x": 0.05
          },
          "xaxis": {
           "automargin": true,
           "gridcolor": "white",
           "linecolor": "white",
           "ticks": "",
           "title": {
            "standoff": 15
           },
           "zerolinecolor": "white",
           "zerolinewidth": 2
          },
          "yaxis": {
           "automargin": true,
           "gridcolor": "white",
           "linecolor": "white",
           "ticks": "",
           "title": {
            "standoff": 15
           },
           "zerolinecolor": "white",
           "zerolinewidth": 2
          }
         }
        },
        "title": {
         "text": "K-Means Clustering (Area vs Price)"
        },
        "xaxis": {
         "title": {
          "text": "Price"
         }
        },
        "yaxis": {
         "title": {
          "text": "Bathrooms"
         }
        }
       }
      }
     },
     "metadata": {},
     "output_type": "display_data"
    }
   ],
   "source": [
    "import plotly.graph_objects as go\n",
    "\n",
    "# Chọn 2 biến để vẽ (có thể đổi sang biến khác)\n",
    "x_col = 'Price'\n",
    "y_col = 'Bathrooms'\n",
    "# Lấy dữ liệu cho 2 biến đó\n",
    "x = X[x_col].values\n",
    "y = X[y_col].values\n",
    "fig = go.Figure()\n",
    "# Vẽ từng cụm\n",
    "for i, color in zip(range(km.n_clusters), ['#DB4CB2', '#c9e9f6', '#7D3AC1']):\n",
    "    fig.add_trace(go.Scatter(x=x[clusters == i], y=y[clusters == i],\n",
    "                             mode='markers', name=f'Cluster {i}', marker_color=color))\n",
    "# Vẽ tâm cụm\n",
    "centroids = km.cluster_centers_\n",
    "fig.add_trace(go.Scatter(\n",
    "    x=centroids[:, X.columns.get_loc(x_col)],\n",
    "    y=centroids[:, X.columns.get_loc(y_col)],\n",
    "    mode='markers', name='Centroids',\n",
    "    marker_color='#CAC9CD', marker_symbol='x', marker_size=12\n",
    "))\n",
    "\n",
    "fig.update_layout(title='K-Means Clustering (Area vs Price)',\n",
    "                  xaxis_title=x_col, yaxis_title=y_col)\n",
    "fig.show()\n"
   ]
  },
  {
   "cell_type": "markdown",
   "id": "575fe015",
   "metadata": {},
   "source": [
    "### DBSCAN"
   ]
  },
  {
   "cell_type": "code",
   "execution_count": null,
   "id": "bbc40a82",
   "metadata": {},
   "outputs": [],
   "source": [
    "import numpy as np\n",
    "import matplotlib.pyplot as plt\n",
    "from sklearn.datasets import make_moons\n",
    "from sklearn.cluster import DBSCAN\n",
    "from sklearn.neighbors import NearestNeighbors"
   ]
  },
  {
   "cell_type": "code",
   "execution_count": null,
   "id": "d7805e5c",
   "metadata": {},
   "outputs": [],
   "source": [
    "df = vietnam_housing_clean.copy()\n",
    "if 'Access Road' in df.columns and 'Access_Road' not in df.columns:\n",
    "    df = df.rename(columns={'Access Road':'Access_Road'})\n",
    "if 'Access Road' in df.columns and 'Access_Road' not in df.columns:\n",
    "    df.rename(columns={'Access Road':'Access_Road'}, inplace=True)\n",
    "\n",
    "feat = ['Area','Access_Road','Frontage','Bedrooms','Bathrooms','Price',\n",
    "        'House_direction_sin','House_direction_cos',\n",
    "        'Balcony_direction_sin','Balcony_direction_cos']\n",
    "feat = [c for c in feat if c in df.columns]  # chỉ giữ cột có thật\n",
    "X = df[feat].copy()"
   ]
  },
  {
   "cell_type": "code",
   "execution_count": null,
   "id": "d0ef8706",
   "metadata": {},
   "outputs": [
    {
     "data": {
      "image/png": "[encoded data removed]",
      "text/plain": [
       "<Figure size 700x400 with 1 Axes>"
      ]
     },
     "metadata": {},
     "output_type": "display_data"
    }
   ],
   "source": [
    "k = max(5, 2*X.shape[1])  # rule of thumb\n",
    "nbrs = NearestNeighbors(n_neighbors=k).fit(X)\n",
    "dist, _ = nbrs.kneighbors(X)\n",
    "kdist = np.sort(dist[:, -1])\n",
    "\n",
    "plt.figure(figsize=(7,4))\n",
    "plt.plot(kdist); plt.title(f'k-distance plot (k={k})')\n",
    "plt.xlabel('Điểm (sorted)'); plt.ylabel('Khoảng cách k-th'); plt.show()\n"
   ]
  },
  {
   "cell_type": "code",
   "execution_count": null,
   "id": "ba36f7eb",
   "metadata": {},
   "outputs": [
    {
     "name": "stdout",
     "output_type": "stream",
     "text": [
      "eps=1.2: cụm=12, noise=32.86%\n",
      "eps=1.5: cụm=5, noise=14.69%\n",
      "eps=1.8: cụm=1, noise=5.35%\n",
      "eps=2.0: cụm=1, noise=2.62%\n",
      "eps=2.3: cụm=1, noise=0.30%\n"
     ]
    }
   ],
   "source": [
    "for eps_test in [1.2, 1.5, 1.8, 2.0, 2.3]:\n",
    "    db = DBSCAN(eps=eps_test, min_samples=10).fit(X)\n",
    "    labels = db.labels_\n",
    "    n_clusters = len(set(labels)) - (1 if -1 in labels else 0)\n",
    "    noise = (labels == -1).mean()\n",
    "    print(f\"eps={eps_test}: cụm={n_clusters}, noise={noise:.2%}\")\n"
   ]
  },
  {
   "cell_type": "code",
   "execution_count": null,
   "id": "32a7d37f",
   "metadata": {},
   "outputs": [
    {
     "name": "stdout",
     "output_type": "stream",
     "text": [
      "Silhouette DBSCAN: 0.07078658066441573\n",
      "Silhouette KMeans: 0.17529764603220044\n"
     ]
    }
   ],
   "source": [
    "# DBSCAN với eps = 1.5\n",
    "db = DBSCAN(eps=1.5, min_samples=10).fit(X)\n",
    "df['db'] = db.labels_\n",
    "\n",
    "# K-Means để so sánh\n",
    "km = KMeans(n_clusters=5, random_state=42).fit(X)\n",
    "df['km'] = km.labels_\n",
    "\n",
    "# Chỉ tính Silhouette nếu DBSCAN ra >=2 cụm khác nhau (bỏ noise -1)\n",
    "mask = df['db'] != -1\n",
    "n_clusters_db = len(set(df['db'][mask]))\n",
    "\n",
    "if n_clusters_db > 1:\n",
    "    print(\"Silhouette DBSCAN:\", silhouette_score(X[mask], df['db'][mask]))\n",
    "else:\n",
    "    print(\"DBSCAN chỉ có 1 cụm hợp lệ → không tính được Silhouette\")\n",
    "\n",
    "print(\"Silhouette KMeans:\", silhouette_score(X, df['km']))\n"
   ]
  },
  {
   "cell_type": "markdown",
   "id": "fffda0f9",
   "metadata": {},
   "source": [
    "## Hierarchical clustering "
   ]
  },
  {
   "cell_type": "code",
   "execution_count": null,
   "id": "bd3afe41",
   "metadata": {},
   "outputs": [],
   "source": [
    "import pandas as pd\n",
    "import numpy as np\n",
    "from sklearn.preprocessing import StandardScaler\n",
    "from sklearn.impute import SimpleImputer\n",
    "from sklearn.metrics import silhouette_score\n",
    "from sklearn.cluster import AgglomerativeClustering\n",
    "from scipy.cluster.hierarchy import linkage, dendrogram\n",
    "import matplotlib.pyplot as pl"
   ]
  },
  {
   "cell_type": "code",
   "execution_count": null,
   "id": "7362e6da",
   "metadata": {},
   "outputs": [
    {
     "data": {
      "image/png": "[encoded data removed]",
      "text/plain": [
       "<Figure size 640x480 with 1 Axes>"
      ]
     },
     "metadata": {},
     "output_type": "display_data"
    }
   ],
   "source": [
    "from scipy.cluster.hierarchy import linkage, dendrogram, fcluster\n",
    "from sklearn.datasets import make_blobs\n",
    "import matplotlib.pyplot as plt\n",
    "%matplotlib inline\n",
    "# Generate a random cluster dataset to experiment on. \n",
    "# X = coordinate points, y = cluster labels (not needed)\n",
    "X, y = make_blobs(n_samples=1000, centers=8, n_features=2,\n",
    "random_state=800)\n",
    "plt.scatter(X[:,0], X[:,1])\n",
    "plt.show()"
   ]
  },
  {
   "cell_type": "code",
   "execution_count": null,
   "id": "f76fe16d",
   "metadata": {},
   "outputs": [
    {
     "name": "stdout",
     "output_type": "stream",
     "text": [
      "[[5.72000000e+02 7.62000000e+02 7.69412624e-03 2.00000000e+00]\n",
      " [3.00000000e+01 1.96000000e+02 8.87881891e-03 2.00000000e+00]\n",
      " [5.91000000e+02 8.70000000e+02 1.07476240e-02 2.00000000e+00]\n",
      " ...\n",
      " [1.98900000e+03 1.99200000e+03 7.81168528e+00 3.75000000e+02]\n",
      " [1.99500000e+03 1.99600000e+03 1.02408477e+01 7.50000000e+02]\n",
      " [1.99400000e+03 1.99700000e+03 1.20025814e+01 1.00000000e+03]]\n"
     ]
    }
   ],
   "source": [
    "# Generate distance matrix with 'linkage' function\n",
    "distances = linkage(X, method=\"centroid\", metric=\"euclidean\")\n",
    "print(distances)"
   ]
  },
  {
   "cell_type": "code",
   "execution_count": null,
   "id": "1daaa94a",
   "metadata": {},
   "outputs": [
    {
     "data": {
      "image/png": "[encoded data removed]",
      "text/plain": [
       "<Figure size 1200x600 with 1 Axes>"
      ]
     },
     "metadata": {},
     "output_type": "display_data"
    }
   ],
   "source": [
    "# select numeric columns only (or list the feature column names you want)\n",
    "numeric_cols = vietnam_housing_clean.select_dtypes(include=[np.number]).columns.tolist()\n",
    "X_hier = vietnam_housing_clean[numeric_cols].dropna()\n",
    "\n",
    "if X_hier.shape[0] < 2 or X_hier.shape[1] < 1:\n",
    "    raise ValueError(\"Not enough numeric rows/columns for hierarchical clustering. Check vietnam_housing_clean.\")\n",
    "\n",
    "# convert to numpy array (float) for linkage\n",
    "X_vals = X_hier.values.astype(float)\n",
    "\n",
    "complete_clustering = linkage(X_vals, method=\"complete\", metric=\"euclidean\")\n",
    "average_clustering  = linkage(X_vals, method=\"average\",  metric=\"euclidean\")\n",
    "single_clustering   = linkage(X_vals, method=\"single\",   metric=\"euclidean\")\n",
    "\n",
    "# optional: plot a truncated dendrogram for the complete linkage\n",
    "plt.figure(figsize=(12, 6))\n",
    "dendrogram(complete_clustering, truncate_mode='level', p=5, labels=X_hier.index)\n",
    "plt.title(\"Complete linkage dendrogram (truncated)\")\n",
    "plt.xlabel(\"Sample index\")\n",
    "plt.ylabel(\"Distance\")\n",
    "plt.show()"
   ]
  },
  {
   "cell_type": "code",
   "execution_count": null,
   "id": "90658dc0",
   "metadata": {},
   "outputs": [
    {
     "data": {
      "image/png": "[encoded data removed]",
      "text/plain": [
       "<Figure size 640x480 with 1 Axes>"
      ]
     },
     "metadata": {},
     "output_type": "display_data"
    }
   ],
   "source": [
    "dendrogram(complete_clustering)\n",
    "plt.show()"
   ]
  },
  {
   "cell_type": "code",
   "execution_count": null,
   "id": "9038f8ce",
   "metadata": {},
   "outputs": [
    {
     "data": {
      "image/png": "[encoded data removed]",
      "text/plain": [
       "<Figure size 640x480 with 1 Axes>"
      ]
     },
     "metadata": {},
     "output_type": "display_data"
    },
    {
     "data": {
      "image/png": "[encoded data removed]",
      "text/plain": [
       "<Figure size 640x480 with 1 Axes>"
      ]
     },
     "metadata": {},
     "output_type": "display_data"
    }
   ],
   "source": [
    "dendrogram(average_clustering)\n",
    "plt.show()\n",
    "dendrogram(single_clustering)\n",
    "plt.show()"
   ]
  },
  {
   "cell_type": "code",
   "execution_count": null,
   "id": "24f84875",
   "metadata": {},
   "outputs": [
    {
     "name": "stdout",
     "output_type": "stream",
     "text": [
      "best_k=2, silhouette=0.0078\n"
     ]
    },
    {
     "data": {
      "image/png": "[encoded data removed]",
      "text/plain": [
       "<Figure size 640x480 with 1 Axes>"
      ]
     },
     "metadata": {},
     "output_type": "display_data"
    }
   ],
   "source": [
    "Z = complete_clustering \n",
    "X_hier = X \n",
    "n = len(X_hier)\n",
    "idx = np.random.default_rng(42).choice(n, size=min(2000, n), replace=False)\n",
    "X_s = X_hier[idx]\n",
    "k_grid = range(2, 11)\n",
    "sil_scores = [silhouette_score(X_s, fcluster(Z, t=k, criterion=\"maxclust\")[idx]) for k in k_grid]\n",
    "best_k = list(k_grid)[int(np.nanargmax(sil_scores))]\n",
    "\n",
    "print(f\"best_k={best_k}, silhouette={np.nanmax(sil_scores):.4f}\")\n",
    "plt.plot(list(k_grid), sil_scores, marker=\"o\")\n",
    "plt.xlabel(\"k\"); plt.ylabel(\"Silhouette (sample)\")\n",
    "plt.title(\"Silhouette vs k (cut dendrogram by maxclust)\")\n",
    "plt.tight_layout(); plt.show()\n"
   ]
  },
  {
   "cell_type": "code",
   "execution_count": null,
   "id": "21929988",
   "metadata": {},
   "outputs": [
    {
     "name": "stdout",
     "output_type": "stream",
     "text": [
      "\n",
      "=== Cluster medians (trên thang đã chuẩn hoá) ===\n"
     ]
    },
    {
     "data": {
      "text/html": [
       "<div>\n",
       "<style scoped>\n",
       "    .dataframe tbody tr th:only-of-type {\n",
       "        vertical-align: middle;\n",
       "    }\n",
       "\n",
       "    .dataframe tbody tr th {\n",
       "        vertical-align: top;\n",
       "    }\n",
       "\n",
       "    .dataframe thead th {\n",
       "        text-align: right;\n",
       "    }\n",
       "</style>\n",
       "<table border=\"1\" class=\"dataframe\">\n",
       "  <thead>\n",
       "    <tr style=\"text-align: right;\">\n",
       "      <th></th>\n",
       "      <th>Cluster</th>\n",
       "      <th>Count</th>\n",
       "      <th>Area</th>\n",
       "      <th>Frontage</th>\n",
       "      <th>Access_Road</th>\n",
       "      <th>Floors</th>\n",
       "      <th>Bedrooms</th>\n",
       "      <th>Bathrooms</th>\n",
       "      <th>Legal_status</th>\n",
       "      <th>Furniture_state</th>\n",
       "      <th>Price</th>\n",
       "      <th>House_direction_sin</th>\n",
       "      <th>House_direction_cos</th>\n",
       "      <th>Balcony_direction_sin</th>\n",
       "      <th>Balcony_direction_cos</th>\n",
       "    </tr>\n",
       "  </thead>\n",
       "  <tbody>\n",
       "    <tr>\n",
       "      <th>0</th>\n",
       "      <td>1</td>\n",
       "      <td>193</td>\n",
       "      <td>-0.357307</td>\n",
       "      <td>-0.511298</td>\n",
       "      <td>-0.183777</td>\n",
       "      <td>5.0</td>\n",
       "      <td>0.855516</td>\n",
       "      <td>1.59219</td>\n",
       "      <td>0.0</td>\n",
       "      <td>1.0</td>\n",
       "      <td>0.748416</td>\n",
       "      <td>0.0</td>\n",
       "      <td>1.0</td>\n",
       "      <td>0.0</td>\n",
       "      <td>1.0</td>\n",
       "    </tr>\n",
       "    <tr>\n",
       "      <th>1</th>\n",
       "      <td>2</td>\n",
       "      <td>1788</td>\n",
       "      <td>-0.110938</td>\n",
       "      <td>-0.246976</td>\n",
       "      <td>-0.183777</td>\n",
       "      <td>3.0</td>\n",
       "      <td>-0.369034</td>\n",
       "      <td>-0.21637</td>\n",
       "      <td>0.0</td>\n",
       "      <td>1.0</td>\n",
       "      <td>-0.235342</td>\n",
       "      <td>0.0</td>\n",
       "      <td>1.0</td>\n",
       "      <td>0.0</td>\n",
       "      <td>1.0</td>\n",
       "    </tr>\n",
       "  </tbody>\n",
       "</table>\n",
       "</div>"
      ],
      "text/plain": [
       "   Cluster  Count      Area  Frontage  Access_Road  Floors  Bedrooms  \\\n",
       "0        1    193 -0.357307 -0.511298    -0.183777     5.0  0.855516   \n",
       "1        2   1788 -0.110938 -0.246976    -0.183777     3.0 -0.369034   \n",
       "\n",
       "   Bathrooms  Legal_status  Furniture_state     Price  House_direction_sin  \\\n",
       "0    1.59219           0.0              1.0  0.748416                  0.0   \n",
       "1   -0.21637           0.0              1.0 -0.235342                  0.0   \n",
       "\n",
       "   House_direction_cos  Balcony_direction_sin  Balcony_direction_cos  \n",
       "0                  1.0                    0.0                    1.0  \n",
       "1                  1.0                    0.0                    1.0  "
      ]
     },
     "metadata": {},
     "output_type": "display_data"
    }
   ],
   "source": [
    "# GÁN NHẪN CỤM CHO TOÀN BỘ DỮ LIỆU VỚI best_k ---\n",
    "labels = fcluster(Z, t=best_k, criterion=\"maxclust\")  # 1..best_k\n",
    "# ensure labels is 1D and aligns with X_hier index\n",
    "labels = np.asarray(labels).ravel()\n",
    "if labels.shape[0] != X_hier.shape[0]:\n",
    "    # GÁN NHẪN CỤM CHO TOÀN BỘ DỮ LIỆU VỚI best_k ---\n",
    "    labels = fcluster(Z, t=best_k, criterion=\"maxclust\")  # 1..best_k\n",
    "    # ensure labels is 1D and aligns with X_hier index\n",
    "    labels = np.asarray(labels).ravel()\n",
    "    if labels.shape[0] != X_hier.shape[0]:\n",
    "        # Try to recover the original X_hier used to compute Z (if vietnam_housing_clean + numeric_cols exist)\n",
    "        try:\n",
    "            X_hier_candidate = vietnam_housing_clean[numeric_cols].dropna()\n",
    "        except Exception:\n",
    "            X_hier_candidate = None\n",
    "\n",
    "        if X_hier_candidate is not None and labels.shape[0] == X_hier_candidate.shape[0]:\n",
    "            # restore X_hier to the dataframe that matches the linkage matrix\n",
    "            X_hier = X_hier_candidate\n",
    "        else:\n",
    "            n_from_Z = (Z.shape[0] + 1) if hasattr(Z, \"shape\") else None\n",
    "            raise ValueError(\n",
    "                f\"labels length ({labels.shape[0]}) does not match X_hier rows ({X_hier.shape[0]}). \"\n",
    "                f\"Linkage matrix Z corresponds to {n_from_Z} original observations. \"\n",
    "                f\"Ensure you are cutting the same linkage matrix Z that was built from X_hier.\"\n",
    "            )\n",
    "\n",
    "    labels_ser = pd.Series(labels, index=X_hier.index, name=\"hcluster_label\")\n",
    "\n",
    "    # TÓM TẮT CỤM (median theo đơn vị đang có trong X_hier - là thang đã scale) ---\n",
    "    summary_rows = []\n",
    "    for c in sorted(np.unique(labels)):\n",
    "        mask = (labels_ser.values == c)\n",
    "        row = {\"Cluster\": int(c), \"Count\": int(mask.sum())}\n",
    "        row.update(pd.DataFrame(X_hier.values[mask], columns=numeric_cols).median().to_dict())\n",
    "        summary_rows.append(row)\n",
    "    summary_df = pd.DataFrame(summary_rows).sort_values(\"Cluster\").reset_index(drop=True)\n",
    "    print(\"\\n=== Cluster medians (trên thang đã chuẩn hoá) ===\")\n",
    "    display(summary_df)\n",
    "labels_ser = pd.Series(labels, index=X_hier.index, name=\"hcluster_label\")\n"
   ]
  },
  {
   "cell_type": "code",
   "execution_count": null,
   "id": "0f4e0e0a",
   "metadata": {},
   "outputs": [
    {
     "data": {
      "image/png": "[encoded data removed]",
      "text/plain": [
       "<Figure size 800x500 with 1 Axes>"
      ]
     },
     "metadata": {},
     "output_type": "display_data"
    }
   ],
   "source": [
    "from scipy.cluster.hierarchy import cut_tree\n",
    "import seaborn as sns\n",
    "import matplotlib.pyplot as plt\n",
    "# Cắt cây dendrogram thành 2 cụm (đổi số nếu muốn)\n",
    "cluster_labels = cut_tree(average_clustering, n_clusters=2).reshape(-1, )\n",
    "\n",
    "# Gắn nhãn cụm vào dataframe đang dùng (X_hier hoặc vietnam_housing_scaled)\n",
    "df_cluster = X_hier.copy()\n",
    "df_cluster[\"Cluster\"] = cluster_labels\n",
    "\n",
    "# Chọn biến để xem ý nghĩa (ví dụ 'Price')\n",
    "target = \"Bedrooms\"\n",
    "\n",
    "# Vẽ boxplot để so sánh phân bố biến theo cụm\n",
    "plt.figure(figsize=(8,5))\n",
    "sns.boxplot(x=\"Cluster\", y=target, data=df_cluster, palette=\"Set2\")\n",
    "plt.title(f\"{target} distribution by hierarchical cluster\")\n",
    "plt.show()"
   ]
  },
  {
   "cell_type": "code",
   "execution_count": null,
   "id": "e9c62ec5",
   "metadata": {},
   "outputs": [
    {
     "data": {
      "image/png": "[encoded data removed]",
      "text/plain": [
       "<Figure size 640x480 with 1 Axes>"
      ]
     },
     "metadata": {},
     "output_type": "display_data"
    }
   ],
   "source": [
    "from sklearn.preprocessing import StandardScaler\n",
    "from sklearn.decomposition import PCA\n",
    "from scipy.cluster.hierarchy import linkage, fcluster\n",
    "import matplotlib.pyplot as plt\n",
    "\n",
    "# B1: Chuẩn hóa trực tiếp\n",
    "num_cols = ['Area','Frontage','Bedrooms','Bathrooms','Price']\n",
    "X = vietnam_housing_clean[num_cols].dropna().copy() \n",
    "X[num_cols] = StandardScaler().fit_transform(X[num_cols])\n",
    "\n",
    "# B2: Dùng chính X đã scale để phân cụm (không cần X_scaled riêng)\n",
    "X_scaled = X[num_cols].values\n",
    "\n",
    "# B3: Hierarchical Clustering với Ward (phù hợp dữ liệu dạng số)\n",
    "Z = linkage(X_scaled, method='ward')\n",
    "\n",
    "# B4: Cắt cụm (chọn 4 hoặc 5 cụm)\n",
    "labels_hier = fcluster(Z, t=4, criterion='maxclust')\n",
    "X['hcluster'] = labels_hier\n",
    "\n",
    "# B5: Giảm chiều bằng PCA để xem cụm\n",
    "pca = PCA(n_components=2).fit_transform(X_scaled)\n",
    "plt.scatter(pca[:,0], pca[:,1], c=labels_hier, cmap='tab10', s=20)\n",
    "plt.title(\"Hierarchical Clustering + PCA (Ward Linkage)\")\n",
    "plt.xlabel(\"PC1\"); plt.ylabel(\"PC2\")\n",
    "plt.show()\n"
   ]
  },
  {
   "cell_type": "code",
   "execution_count": null,
   "id": "6597f94e",
   "metadata": {},
   "outputs": [
    {
     "name": "stdout",
     "output_type": "stream",
     "text": [
      "Số cụm thật sự: 2\n",
      "Phân bố nhãn: (array([1, 2], dtype=int32), array([ 193, 1788]))\n"
     ]
    }
   ],
   "source": [
    "import numpy as np\n",
    "\n",
    "print(\"Số cụm thật sự:\", len(np.unique(labels)))\n",
    "print(\"Phân bố nhãn:\", np.unique(labels, return_counts=True))\n"
   ]
  },
  {
   "cell_type": "code",
   "execution_count": null,
   "id": "38a18587",
   "metadata": {},
   "outputs": [
    {
     "name": "stdout",
     "output_type": "stream",
     "text": [
      "✅ Silhouette Score: 0.20262911245627818\n"
     ]
    }
   ],
   "source": [
    "from scipy.cluster.hierarchy import linkage, fcluster\n",
    "from sklearn.metrics import silhouette_score\n",
    "# 1. Chuẩn hóa\n",
    "X = vietnam_housing[num_cols].dropna()\n",
    "X_scaled = StandardScaler().fit_transform(X)\n",
    "# 2. Linkage\n",
    "Z = linkage(X_scaled, method='ward')\n",
    "# 3. Cắt cụm (ví dụ 4 cụm)\n",
    "labels = fcluster(Z, t=2, criterion='maxclust')\n",
    "# 4. Silhouette Score\n",
    "sil_score = silhouette_score(X_scaled, labels)\n",
    "print(\"✅ Silhouette Score:\", sil_score)\n"
   ]
  },
  {
   "cell_type": "code",
   "execution_count": null,
   "id": "80f7b541",
   "metadata": {},
   "outputs": [
    {
     "data": {
      "text/plain": [
       "['kmeans_model.joblib']"
      ]
     },
     "execution_count": 532,
     "metadata": {},
     "output_type": "execute_result"
    }
   ],
   "source": [
    "import joblib\n",
    "joblib.dump(km, \"kmeans_model.joblib\")\n",
    "# load: km = joblib.load(\"kmeans_model.joblib\")"
   ]
  },
  {
   "cell_type": "markdown",
   "id": "d2e7dcd9",
   "metadata": {},
   "source": []
  }
 ],
 "metadata": {
  "kernelspec": {
   "display_name": "Python 3",
   "language": "python",
   "name": "python3"
  },
  "language_info": {
   "codemirror_mode": {
    "name": "ipython",
    "version": 3
   },
   "file_extension": ".py",
   "mimetype": "text/x-python",
   "name": "python",
   "nbconvert_exporter": "python",
   "pygments_lexer": "ipython3",
   "version": "3.12.1"
  }
 },
 "nbformat": 4,
 "nbformat_minor": 5
}
